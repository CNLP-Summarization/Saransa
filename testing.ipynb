{
 "cells": [
  {
   "cell_type": "code",
   "execution_count": 1,
   "id": "a5fcb2bb",
   "metadata": {
    "id": "a5fcb2bb",
    "outputId": "41630c1b-5b43-43e0-c3a5-03435cc08809"
   },
   "outputs": [
    {
     "name": "stdout",
     "output_type": "stream",
     "text": [
      "Sat Dec  4 15:03:59 2021       \r\n",
      "+-----------------------------------------------------------------------------+\r\n",
      "| NVIDIA-SMI 440.118.02   Driver Version: 440.118.02   CUDA Version: 10.2     |\r\n",
      "|-------------------------------+----------------------+----------------------+\r\n",
      "| GPU  Name        Persistence-M| Bus-Id        Disp.A | Volatile Uncorr. ECC |\r\n",
      "| Fan  Temp  Perf  Pwr:Usage/Cap|         Memory-Usage | GPU-Util  Compute M. |\r\n",
      "|===============================+======================+======================|\r\n",
      "|   0  Quadro P2000        Off  | 00000000:65:00.0  On |                  N/A |\r\n",
      "| 56%   54C    P0    19W /  75W |    806MiB /  5044MiB |     14%      Default |\r\n",
      "+-------------------------------+----------------------+----------------------+\r\n",
      "                                                                               \r\n",
      "+-----------------------------------------------------------------------------+\r\n",
      "| Processes:                                                       GPU Memory |\r\n",
      "|  GPU       PID   Type   Process name                             Usage      |\r\n",
      "|=============================================================================|\r\n",
      "|    0      1950      G   /usr/lib/xorg/Xorg                            57MiB |\r\n",
      "|    0      2921      G   /usr/lib/xorg/Xorg                           293MiB |\r\n",
      "|    0      3370      G   compiz                                       307MiB |\r\n",
      "|    0     22014      G   ...AAgAAAAAAAAACAAAAAAAAAA= --shared-files    85MiB |\r\n",
      "|    0     23183      G   ...AAgAAAAAAAAACAAAAAAAAAA= --shared-files    39MiB |\r\n",
      "+-----------------------------------------------------------------------------+\r\n"
     ]
    }
   ],
   "source": [
    "!nvidia-smi"
   ]
  },
  {
   "cell_type": "code",
   "execution_count": 2,
   "id": "2e27ad5c",
   "metadata": {
    "id": "2e27ad5c",
    "outputId": "d390c2de-1bf3-4fe1-c12a-fefbd1a6c7a2"
   },
   "outputs": [
    {
     "name": "stdout",
     "output_type": "stream",
     "text": [
      "Collecting transformers\n",
      "  Downloading transformers-4.12.5-py3-none-any.whl (3.1 MB)\n",
      "\u001b[K     |████████████████████████████████| 3.1 MB 655 kB/s eta 0:00:01\n",
      "\u001b[?25hCollecting tokenizers<0.11,>=0.10.1\n",
      "  Using cached tokenizers-0.10.3-cp38-cp38-manylinux_2_5_x86_64.manylinux1_x86_64.manylinux_2_12_x86_64.manylinux2010_x86_64.whl (3.3 MB)\n",
      "Requirement already satisfied: regex!=2019.12.17 in /home/prottayadhikary/anaconda3/envs/sumapp/lib/python3.8/site-packages (from transformers) (2021.11.10)\n",
      "Collecting pyyaml>=5.1\n",
      "  Downloading PyYAML-6.0-cp38-cp38-manylinux_2_5_x86_64.manylinux1_x86_64.manylinux_2_12_x86_64.manylinux2010_x86_64.whl (701 kB)\n",
      "\u001b[K     |████████████████████████████████| 701 kB 50.7 MB/s eta 0:00:01\n",
      "\u001b[?25hRequirement already satisfied: tqdm>=4.27 in /home/prottayadhikary/anaconda3/envs/sumapp/lib/python3.8/site-packages (from transformers) (4.62.3)\n",
      "Collecting filelock\n",
      "  Downloading filelock-3.4.0-py3-none-any.whl (9.8 kB)\n",
      "Collecting sacremoses\n",
      "  Using cached sacremoses-0.0.46-py3-none-any.whl (895 kB)\n",
      "Collecting requests\n",
      "  Using cached requests-2.26.0-py2.py3-none-any.whl (62 kB)\n",
      "Requirement already satisfied: packaging>=20.0 in /home/prottayadhikary/anaconda3/envs/sumapp/lib/python3.8/site-packages (from transformers) (21.3)\n",
      "Requirement already satisfied: numpy>=1.17 in /home/prottayadhikary/anaconda3/envs/sumapp/lib/python3.8/site-packages (from transformers) (1.21.4)\n",
      "Collecting huggingface-hub<1.0,>=0.1.0\n",
      "  Downloading huggingface_hub-0.2.1-py3-none-any.whl (61 kB)\n",
      "\u001b[K     |████████████████████████████████| 61 kB 77 kB/s s eta 0:00:01\n",
      "\u001b[?25hRequirement already satisfied: six in /home/prottayadhikary/anaconda3/envs/sumapp/lib/python3.8/site-packages (from sacremoses->transformers) (1.16.0)\n",
      "Requirement already satisfied: joblib in /home/prottayadhikary/anaconda3/envs/sumapp/lib/python3.8/site-packages (from sacremoses->transformers) (1.1.0)\n",
      "Requirement already satisfied: click in /home/prottayadhikary/anaconda3/envs/sumapp/lib/python3.8/site-packages (from sacremoses->transformers) (7.1.2)\n",
      "Collecting charset-normalizer~=2.0.0; python_version >= \"3\"\n",
      "  Downloading charset_normalizer-2.0.9-py3-none-any.whl (39 kB)\n",
      "Requirement already satisfied: certifi>=2017.4.17 in /home/prottayadhikary/anaconda3/envs/sumapp/lib/python3.8/site-packages (from requests->transformers) (2020.6.20)\n",
      "Collecting idna<4,>=2.5; python_version >= \"3\"\n",
      "  Downloading idna-3.3-py3-none-any.whl (61 kB)\n",
      "\u001b[K     |████████████████████████████████| 61 kB 715 kB/s  eta 0:00:01\n",
      "\u001b[?25hCollecting urllib3<1.27,>=1.21.1\n",
      "  Downloading urllib3-1.26.7-py2.py3-none-any.whl (138 kB)\n",
      "\u001b[K     |████████████████████████████████| 138 kB 61.5 MB/s eta 0:00:01\n",
      "\u001b[?25hRequirement already satisfied: pyparsing!=3.0.5,>=2.0.2 in /home/prottayadhikary/anaconda3/envs/sumapp/lib/python3.8/site-packages (from packaging>=20.0->transformers) (3.0.6)\n",
      "Collecting typing-extensions>=3.7.4.3\n",
      "  Downloading typing_extensions-4.0.1-py3-none-any.whl (22 kB)\n",
      "Installing collected packages: tokenizers, pyyaml, filelock, sacremoses, charset-normalizer, idna, urllib3, requests, typing-extensions, huggingface-hub, transformers\n",
      "Successfully installed charset-normalizer-2.0.9 filelock-3.4.0 huggingface-hub-0.2.1 idna-3.3 pyyaml-6.0 requests-2.26.0 sacremoses-0.0.46 tokenizers-0.10.3 transformers-4.12.5 typing-extensions-4.0.1 urllib3-1.26.7\n"
     ]
    }
   ],
   "source": [
    "!pip install  transformers"
   ]
  },
  {
   "cell_type": "code",
   "execution_count": 3,
   "id": "001b8b72",
   "metadata": {
    "id": "001b8b72"
   },
   "outputs": [
    {
     "name": "stdout",
     "output_type": "stream",
     "text": [
      "Collecting pytorch-lightning==1.2.7\n",
      "  Using cached pytorch_lightning-1.2.7-py3-none-any.whl (830 kB)\n",
      "Collecting tensorboard>=2.2.0\n",
      "  Downloading tensorboard-2.7.0-py3-none-any.whl (5.8 MB)\n",
      "\u001b[K     |████████████████████████████████| 5.8 MB 639 kB/s eta 0:00:01\n",
      "\u001b[?25hCollecting fsspec[http]>=0.8.1\n",
      "  Downloading fsspec-2021.11.1-py3-none-any.whl (132 kB)\n",
      "\u001b[K     |████████████████████████████████| 132 kB 42.2 MB/s eta 0:00:01\n",
      "\u001b[?25hCollecting torchmetrics>=0.2.0\n",
      "  Downloading torchmetrics-0.6.0-py3-none-any.whl (329 kB)\n",
      "\u001b[K     |████████████████████████████████| 329 kB 38.0 MB/s eta 0:00:01\n",
      "\u001b[?25hRequirement already satisfied: PyYAML!=5.4.*,>=5.1 in /home/prottayadhikary/anaconda3/envs/sumapp/lib/python3.8/site-packages (from pytorch-lightning==1.2.7) (6.0)\n",
      "Requirement already satisfied: tqdm>=4.41.0 in /home/prottayadhikary/anaconda3/envs/sumapp/lib/python3.8/site-packages (from pytorch-lightning==1.2.7) (4.62.3)\n",
      "Requirement already satisfied: numpy>=1.16.6 in /home/prottayadhikary/anaconda3/envs/sumapp/lib/python3.8/site-packages (from pytorch-lightning==1.2.7) (1.21.4)\n",
      "Collecting torch>=1.4\n",
      "  Using cached torch-1.10.0-cp38-cp38-manylinux1_x86_64.whl (881.9 MB)\n",
      "Collecting future>=0.17.1\n",
      "  Using cached future-0.18.2.tar.gz (829 kB)\n",
      "Requirement already satisfied: setuptools>=41.0.0 in /home/prottayadhikary/anaconda3/envs/sumapp/lib/python3.8/site-packages (from tensorboard>=2.2.0->pytorch-lightning==1.2.7) (50.3.0.post20201006)\n",
      "Collecting tensorboard-plugin-wit>=1.6.0\n",
      "  Using cached tensorboard_plugin_wit-1.8.0-py3-none-any.whl (781 kB)\n",
      "Requirement already satisfied: werkzeug>=0.11.15 in /home/prottayadhikary/anaconda3/envs/sumapp/lib/python3.8/site-packages (from tensorboard>=2.2.0->pytorch-lightning==1.2.7) (1.0.1)\n",
      "Collecting markdown>=2.6.8\n",
      "  Downloading Markdown-3.3.6-py3-none-any.whl (97 kB)\n",
      "\u001b[K     |████████████████████████████████| 97 kB 767 kB/s  eta 0:00:01\n",
      "\u001b[?25hCollecting tensorboard-data-server<0.7.0,>=0.6.0\n",
      "  Using cached tensorboard_data_server-0.6.1-py3-none-manylinux2010_x86_64.whl (4.9 MB)\n",
      "Requirement already satisfied: wheel>=0.26 in /home/prottayadhikary/anaconda3/envs/sumapp/lib/python3.8/site-packages (from tensorboard>=2.2.0->pytorch-lightning==1.2.7) (0.35.1)\n",
      "Collecting google-auth-oauthlib<0.5,>=0.4.1\n",
      "  Using cached google_auth_oauthlib-0.4.6-py2.py3-none-any.whl (18 kB)\n",
      "Collecting absl-py>=0.4\n",
      "  Downloading absl_py-1.0.0-py3-none-any.whl (126 kB)\n",
      "\u001b[K     |████████████████████████████████| 126 kB 16.2 MB/s eta 0:00:01\n",
      "\u001b[?25hRequirement already satisfied: requests<3,>=2.21.0 in /home/prottayadhikary/anaconda3/envs/sumapp/lib/python3.8/site-packages (from tensorboard>=2.2.0->pytorch-lightning==1.2.7) (2.26.0)\n",
      "Collecting protobuf>=3.6.0\n",
      "  Downloading protobuf-3.19.1-cp38-cp38-manylinux_2_17_x86_64.manylinux2014_x86_64.whl (1.1 MB)\n",
      "\u001b[K     |████████████████████████████████| 1.1 MB 77.2 MB/s eta 0:00:01\n",
      "\u001b[?25hCollecting grpcio>=1.24.3\n",
      "  Downloading grpcio-1.42.0-cp38-cp38-manylinux_2_17_x86_64.manylinux2014_x86_64.whl (4.0 MB)\n",
      "\u001b[K     |████████████████████████████████| 4.0 MB 69.3 MB/s eta 0:00:01\n",
      "\u001b[?25hCollecting google-auth<3,>=1.6.3\n",
      "  Downloading google_auth-2.3.3-py2.py3-none-any.whl (155 kB)\n",
      "\u001b[K     |████████████████████████████████| 155 kB 43.3 MB/s eta 0:00:01\n",
      "\u001b[?25hCollecting aiohttp; extra == \"http\"\n",
      "  Downloading aiohttp-3.8.1-cp38-cp38-manylinux_2_5_x86_64.manylinux1_x86_64.manylinux_2_12_x86_64.manylinux2010_x86_64.whl (1.3 MB)\n",
      "\u001b[K     |████████████████████████████████| 1.3 MB 39.1 MB/s eta 0:00:01\n",
      "\u001b[?25hRequirement already satisfied: packaging in /home/prottayadhikary/anaconda3/envs/sumapp/lib/python3.8/site-packages (from torchmetrics>=0.2.0->pytorch-lightning==1.2.7) (21.3)\n",
      "Requirement already satisfied: typing-extensions in /home/prottayadhikary/anaconda3/envs/sumapp/lib/python3.8/site-packages (from torch>=1.4->pytorch-lightning==1.2.7) (4.0.1)\n",
      "Collecting importlib-metadata>=4.4; python_version < \"3.10\"\n",
      "  Downloading importlib_metadata-4.8.2-py3-none-any.whl (17 kB)\n",
      "Collecting requests-oauthlib>=0.7.0\n",
      "  Using cached requests_oauthlib-1.3.0-py2.py3-none-any.whl (23 kB)\n",
      "Requirement already satisfied: six in /home/prottayadhikary/anaconda3/envs/sumapp/lib/python3.8/site-packages (from absl-py>=0.4->tensorboard>=2.2.0->pytorch-lightning==1.2.7) (1.16.0)\n",
      "Requirement already satisfied: certifi>=2017.4.17 in /home/prottayadhikary/anaconda3/envs/sumapp/lib/python3.8/site-packages (from requests<3,>=2.21.0->tensorboard>=2.2.0->pytorch-lightning==1.2.7) (2020.6.20)\n",
      "Requirement already satisfied: charset-normalizer~=2.0.0; python_version >= \"3\" in /home/prottayadhikary/anaconda3/envs/sumapp/lib/python3.8/site-packages (from requests<3,>=2.21.0->tensorboard>=2.2.0->pytorch-lightning==1.2.7) (2.0.9)\n",
      "Requirement already satisfied: idna<4,>=2.5; python_version >= \"3\" in /home/prottayadhikary/anaconda3/envs/sumapp/lib/python3.8/site-packages (from requests<3,>=2.21.0->tensorboard>=2.2.0->pytorch-lightning==1.2.7) (3.3)\n",
      "Requirement already satisfied: urllib3<1.27,>=1.21.1 in /home/prottayadhikary/anaconda3/envs/sumapp/lib/python3.8/site-packages (from requests<3,>=2.21.0->tensorboard>=2.2.0->pytorch-lightning==1.2.7) (1.26.7)\n",
      "Collecting rsa<5,>=3.1.4; python_version >= \"3.6\"\n",
      "  Downloading rsa-4.8-py3-none-any.whl (39 kB)\n",
      "Collecting pyasn1-modules>=0.2.1\n",
      "  Using cached pyasn1_modules-0.2.8-py2.py3-none-any.whl (155 kB)\n",
      "Collecting cachetools<5.0,>=2.0.0\n",
      "  Using cached cachetools-4.2.4-py3-none-any.whl (10 kB)\n",
      "Requirement already satisfied: attrs>=17.3.0 in /home/prottayadhikary/anaconda3/envs/sumapp/lib/python3.8/site-packages (from aiohttp; extra == \"http\"->fsspec[http]>=0.8.1->pytorch-lightning==1.2.7) (21.2.0)\n",
      "Collecting frozenlist>=1.1.1\n",
      "  Downloading frozenlist-1.2.0-cp38-cp38-manylinux_2_5_x86_64.manylinux1_x86_64.manylinux_2_12_x86_64.manylinux2010_x86_64.whl (210 kB)\n",
      "\u001b[K     |████████████████████████████████| 210 kB 34.3 MB/s eta 0:00:01\n",
      "\u001b[?25hCollecting aiosignal>=1.1.2\n",
      "  Downloading aiosignal-1.2.0-py3-none-any.whl (8.2 kB)\n",
      "Collecting yarl<2.0,>=1.0\n",
      "  Downloading yarl-1.7.2-cp38-cp38-manylinux_2_5_x86_64.manylinux1_x86_64.manylinux_2_12_x86_64.manylinux2010_x86_64.whl (308 kB)\n",
      "\u001b[K     |████████████████████████████████| 308 kB 36.7 MB/s eta 0:00:01\n",
      "\u001b[?25hCollecting async-timeout<5.0,>=4.0.0a3\n",
      "  Downloading async_timeout-4.0.1-py3-none-any.whl (5.7 kB)\n",
      "Collecting multidict<7.0,>=4.5\n",
      "  Downloading multidict-5.2.0-cp38-cp38-manylinux_2_5_x86_64.manylinux1_x86_64.manylinux_2_12_x86_64.manylinux2010_x86_64.whl (187 kB)\n",
      "\u001b[K     |████████████████████████████████| 187 kB 43.3 MB/s eta 0:00:01\n",
      "\u001b[?25hRequirement already satisfied: pyparsing!=3.0.5,>=2.0.2 in /home/prottayadhikary/anaconda3/envs/sumapp/lib/python3.8/site-packages (from packaging->torchmetrics>=0.2.0->pytorch-lightning==1.2.7) (3.0.6)\n",
      "Requirement already satisfied: zipp>=0.5 in /home/prottayadhikary/anaconda3/envs/sumapp/lib/python3.8/site-packages (from importlib-metadata>=4.4; python_version < \"3.10\"->markdown>=2.6.8->tensorboard>=2.2.0->pytorch-lightning==1.2.7) (3.6.0)\n",
      "Collecting oauthlib>=3.0.0\n",
      "  Using cached oauthlib-3.1.1-py2.py3-none-any.whl (146 kB)\n",
      "Collecting pyasn1>=0.1.3\n",
      "  Using cached pyasn1-0.4.8-py2.py3-none-any.whl (77 kB)\n",
      "Building wheels for collected packages: future\n",
      "  Building wheel for future (setup.py) ... \u001b[?25ldone\n",
      "\u001b[?25h  Created wheel for future: filename=future-0.18.2-py3-none-any.whl size=491059 sha256=ebf75fdb44fff1856ae83e29c66acda8e27c8ecd36ec74d63909b9f11cd47cec\n",
      "  Stored in directory: /home/prottayadhikary/.cache/pip/wheels/8e/70/28/3d6ccd6e315f65f245da085482a2e1c7d14b90b30f239e2cf4\n",
      "Successfully built future\n",
      "Installing collected packages: tensorboard-plugin-wit, importlib-metadata, markdown, tensorboard-data-server, pyasn1, rsa, pyasn1-modules, cachetools, google-auth, oauthlib, requests-oauthlib, google-auth-oauthlib, absl-py, protobuf, grpcio, tensorboard, frozenlist, aiosignal, multidict, yarl, async-timeout, aiohttp, fsspec, torch, torchmetrics, future, pytorch-lightning\n",
      "Successfully installed absl-py-1.0.0 aiohttp-3.8.1 aiosignal-1.2.0 async-timeout-4.0.1 cachetools-4.2.4 frozenlist-1.2.0 fsspec-2021.11.1 future-0.18.2 google-auth-2.3.3 google-auth-oauthlib-0.4.6 grpcio-1.42.0 importlib-metadata-4.8.2 markdown-3.3.6 multidict-5.2.0 oauthlib-3.1.1 protobuf-3.19.1 pyasn1-0.4.8 pyasn1-modules-0.2.8 pytorch-lightning-1.2.7 requests-oauthlib-1.3.0 rsa-4.8 tensorboard-2.7.0 tensorboard-data-server-0.6.1 tensorboard-plugin-wit-1.8.0 torch-1.10.0 torchmetrics-0.6.0 yarl-1.7.2\n"
     ]
    }
   ],
   "source": [
    "!pip install pytorch-lightning==1.2.7"
   ]
  },
  {
   "cell_type": "code",
   "execution_count": 6,
   "id": "e995c223",
   "metadata": {
    "id": "e995c223"
   },
   "outputs": [],
   "source": [
    "import pandas as pd\n",
    "import numpy as np\n",
    "import torch"
   ]
  },
  {
   "cell_type": "code",
   "execution_count": 7,
   "id": "b273ba07",
   "metadata": {
    "id": "b273ba07"
   },
   "outputs": [],
   "source": [
    "from pathlib import Path"
   ]
  },
  {
   "cell_type": "code",
   "execution_count": 8,
   "id": "4686c25e",
   "metadata": {
    "id": "4686c25e"
   },
   "outputs": [],
   "source": [
    "from torch.utils.data import Dataset,DataLoader"
   ]
  },
  {
   "cell_type": "code",
   "execution_count": 9,
   "id": "65e9a7ba",
   "metadata": {
    "id": "65e9a7ba"
   },
   "outputs": [],
   "source": [
    "import pytorch_lightning as pl\n",
    "from pytorch_lightning.callbacks import ModelCheckpoint\n",
    "from pytorch_lightning.loggers import TensorBoardLogger"
   ]
  },
  {
   "cell_type": "code",
   "execution_count": 10,
   "id": "59c5fb2a",
   "metadata": {
    "id": "59c5fb2a"
   },
   "outputs": [],
   "source": [
    "from sklearn.model_selection import train_test_split\n",
    "\n",
    "import textwrap"
   ]
  },
  {
   "cell_type": "code",
   "execution_count": 11,
   "id": "b19c595c",
   "metadata": {
    "id": "b19c595c"
   },
   "outputs": [],
   "source": [
    "from transformers import T5TokenizerFast"
   ]
  },
  {
   "cell_type": "code",
   "execution_count": 12,
   "id": "745b4e85",
   "metadata": {
    "id": "745b4e85"
   },
   "outputs": [],
   "source": [
    "from transformers import T5ForConditionalGeneration"
   ]
  },
  {
   "cell_type": "code",
   "execution_count": 13,
   "id": "c01a4c7a",
   "metadata": {
    "id": "c01a4c7a"
   },
   "outputs": [],
   "source": [
    "from tqdm.auto import tqdm"
   ]
  },
  {
   "cell_type": "code",
   "execution_count": 14,
   "id": "b5833263",
   "metadata": {
    "id": "b5833263"
   },
   "outputs": [],
   "source": [
    "from transformers import AdamW"
   ]
  },
  {
   "cell_type": "code",
   "execution_count": 19,
   "id": "f2696c4c",
   "metadata": {
    "id": "f2696c4c"
   },
   "outputs": [
    {
     "name": "stdout",
     "output_type": "stream",
     "text": [
      "Collecting seaborn\n",
      "  Downloading seaborn-0.11.2-py3-none-any.whl (292 kB)\n",
      "\u001b[K     |████████████████████████████████| 292 kB 624 kB/s eta 0:00:01\n",
      "\u001b[?25hCollecting matplotlib>=2.2\n",
      "  Downloading matplotlib-3.5.0-cp38-cp38-manylinux_2_5_x86_64.manylinux1_x86_64.whl (11.3 MB)\n",
      "\u001b[K     |████████████████████████████████| 11.3 MB 7.5 MB/s eta 0:00:01\n",
      "\u001b[?25hRequirement already satisfied: numpy>=1.15 in /home/prottayadhikary/anaconda3/envs/sumapp/lib/python3.8/site-packages (from seaborn) (1.21.4)\n",
      "Requirement already satisfied: scipy>=1.0 in /home/prottayadhikary/anaconda3/envs/sumapp/lib/python3.8/site-packages (from seaborn) (1.7.2)\n",
      "Requirement already satisfied: pandas>=0.23 in /home/prottayadhikary/anaconda3/envs/sumapp/lib/python3.8/site-packages (from seaborn) (1.3.4)\n",
      "Collecting setuptools-scm>=4\n",
      "  Downloading setuptools_scm-6.3.2-py3-none-any.whl (33 kB)\n",
      "Collecting pillow>=6.2.0\n",
      "  Downloading Pillow-8.4.0-cp38-cp38-manylinux_2_17_x86_64.manylinux2014_x86_64.whl (3.1 MB)\n",
      "\u001b[K     |████████████████████████████████| 3.1 MB 1.3 MB/s eta 0:00:011     |██████████████████████▌         | 2.2 MB 1.3 MB/s eta 0:00:01\n",
      "\u001b[?25hRequirement already satisfied: packaging>=20.0 in /home/prottayadhikary/anaconda3/envs/sumapp/lib/python3.8/site-packages (from matplotlib>=2.2->seaborn) (21.3)\n",
      "Requirement already satisfied: pyparsing>=2.2.1 in /home/prottayadhikary/anaconda3/envs/sumapp/lib/python3.8/site-packages (from matplotlib>=2.2->seaborn) (3.0.6)\n",
      "Collecting kiwisolver>=1.0.1\n",
      "  Downloading kiwisolver-1.3.2-cp38-cp38-manylinux_2_5_x86_64.manylinux1_x86_64.whl (1.2 MB)\n",
      "\u001b[K     |████████████████████████████████| 1.2 MB 51.8 MB/s eta 0:00:01\n",
      "\u001b[?25hCollecting fonttools>=4.22.0\n",
      "  Downloading fonttools-4.28.3-py3-none-any.whl (884 kB)\n",
      "\u001b[K     |████████████████████████████████| 884 kB 38.7 MB/s eta 0:00:01\n",
      "\u001b[?25hCollecting cycler>=0.10\n",
      "  Downloading cycler-0.11.0-py3-none-any.whl (6.4 kB)\n",
      "Requirement already satisfied: python-dateutil>=2.7 in /home/prottayadhikary/anaconda3/envs/sumapp/lib/python3.8/site-packages (from matplotlib>=2.2->seaborn) (2.8.2)\n",
      "Requirement already satisfied: pytz>=2017.3 in /home/prottayadhikary/anaconda3/envs/sumapp/lib/python3.8/site-packages (from pandas>=0.23->seaborn) (2021.3)\n",
      "Collecting tomli>=1.0.0\n",
      "  Downloading tomli-1.2.2-py3-none-any.whl (12 kB)\n",
      "Requirement already satisfied: setuptools in /home/prottayadhikary/anaconda3/envs/sumapp/lib/python3.8/site-packages (from setuptools-scm>=4->matplotlib>=2.2->seaborn) (50.3.0.post20201006)\n",
      "Requirement already satisfied: six>=1.5 in /home/prottayadhikary/anaconda3/envs/sumapp/lib/python3.8/site-packages (from python-dateutil>=2.7->matplotlib>=2.2->seaborn) (1.16.0)\n",
      "Installing collected packages: tomli, setuptools-scm, pillow, kiwisolver, fonttools, cycler, matplotlib, seaborn\n",
      "Successfully installed cycler-0.11.0 fonttools-4.28.3 kiwisolver-1.3.2 matplotlib-3.5.0 pillow-8.4.0 seaborn-0.11.2 setuptools-scm-6.3.2 tomli-1.2.2\n"
     ]
    }
   ],
   "source": [
    "!pip install seaborn\n",
    "import seaborn as sns\n",
    "from pylab import rcParams\n",
    "import matplotlib.pyplot as plt\n",
    "from matplotlib import rc\n",
    "\n",
    "%matplotlib inline\n",
    "sns.set(style='whitegrid', palette='muted',font_scale=1.2)\n",
    "rcParams['figure.figsize']=16,10"
   ]
  },
  {
   "cell_type": "code",
   "execution_count": 20,
   "id": "ff6565d6",
   "metadata": {
    "id": "ff6565d6",
    "outputId": "170ff596-51a5-42e5-d119-dfd9babda5e5"
   },
   "outputs": [
    {
     "name": "stderr",
     "output_type": "stream",
     "text": [
      "Global seed set to 42\n"
     ]
    },
    {
     "data": {
      "text/plain": [
       "42"
      ]
     },
     "execution_count": 20,
     "metadata": {},
     "output_type": "execute_result"
    }
   ],
   "source": [
    "pl.seed_everything(42)"
   ]
  },
  {
   "cell_type": "code",
   "execution_count": 21,
   "id": "3df7c121",
   "metadata": {
    "id": "3df7c121"
   },
   "outputs": [],
   "source": [
    "#df=pd.read_csv('train_xsum.csv')"
   ]
  },
  {
   "cell_type": "code",
   "execution_count": 22,
   "id": "dc5d384b",
   "metadata": {
    "id": "dc5d384b"
   },
   "outputs": [],
   "source": [
    "#train_df=df[['document','summary']]"
   ]
  },
  {
   "cell_type": "code",
   "execution_count": 23,
   "id": "d61a680e",
   "metadata": {
    "id": "d61a680e"
   },
   "outputs": [],
   "source": [
    "#tf=pd.read_csv('val_xsum.csv')"
   ]
  },
  {
   "cell_type": "code",
   "execution_count": 24,
   "id": "47afef55",
   "metadata": {
    "id": "47afef55"
   },
   "outputs": [],
   "source": [
    "#test_df=tf[['document','summary']]"
   ]
  },
  {
   "cell_type": "code",
   "execution_count": 25,
   "id": "0873cac5",
   "metadata": {
    "id": "0873cac5",
    "outputId": "3219d576-010c-41ec-e021-42628da36e88"
   },
   "outputs": [],
   "source": [
    "#train_df,test_df=train_test_split(df,test_size=0.1)\n",
    "#train_df.shape, test_df.shape"
   ]
  },
  {
   "cell_type": "code",
   "execution_count": 26,
   "id": "b27c5bbc",
   "metadata": {
    "id": "b27c5bbc"
   },
   "outputs": [],
   "source": [
    "class NewsSummaryDataset(Dataset):\n",
    "    def __init__(\n",
    "    self,\n",
    "    data: pd.DataFrame,\n",
    "    tokenizer: T5TokenizerFast,\n",
    "    text_max_token_len: int=512,\n",
    "    summary_max_token_len: int=128\n",
    "    ):\n",
    "        self.tokenizer= tokenizer\n",
    "        self.data=data\n",
    "        self.text_max_token_len=text_max_token_len\n",
    "        self.summary_max_token_len=summary_max_token_len\n",
    "        \n",
    "    def __len__(self):\n",
    "        return len(self.data)\n",
    "    def __getitem__(self, index: int):\n",
    "        data_row=self.data.iloc[index]\n",
    "        \n",
    "        text=data_row['document']\n",
    "        \n",
    "        text_encoding=tokenizer(\n",
    "        text,\n",
    "        max_length=self.text_max_token_len,\n",
    "        padding='max_length',\n",
    "        truncation=True,\n",
    "        return_attention_mask=True,\n",
    "        add_special_tokens=True,\n",
    "        return_tensors='pt')\n",
    "        \n",
    "        summary_encoding=tokenizer(\n",
    "        data_row['summary'],\n",
    "        max_length=self.summary_max_token_len,\n",
    "        padding='max_length',\n",
    "        truncation=True,\n",
    "        return_attention_mask=True,\n",
    "        add_special_tokens=True,\n",
    "        return_tensors='pt')\n",
    "        \n",
    "        labels=summary_encoding['input_ids']\n",
    "        labels[labels==0]= -100\n",
    "                 \n",
    "        return dict(\n",
    "        text=text,\n",
    "        summary=data_row['summary'],\n",
    "        text_input_ids=text_encoding['input_ids'].flatten(),\n",
    "        text_attention_masks=text_encoding['attention_mask'].flatten(),\n",
    "        labels=labels.flatten(),\n",
    "        labels_attention_mask=summary_encoding['attention_mask'].flatten()\n",
    "        )\n",
    "                 \n",
    "        "
   ]
  },
  {
   "cell_type": "code",
   "execution_count": 27,
   "id": "26733cc9",
   "metadata": {
    "id": "26733cc9"
   },
   "outputs": [],
   "source": [
    "class NewsSummaryDataModule(pl.LightningDataModule):\n",
    "    def __init__(\n",
    "    self,\n",
    "        train_df: pd.DataFrame,\n",
    "        test_df: pd.DataFrame,\n",
    "        tokenizer: T5TokenizerFast,\n",
    "        batch_size:int=8,\n",
    "        text_max_token_len:int=512,\n",
    "        summary_max_token_len:int=128\n",
    "    ):\n",
    "        super().__init__()\n",
    "        \n",
    "        self.train_df=train_df\n",
    "        self.test_df=test_df\n",
    "        self.batch_size=batch_size\n",
    "        self.tokenizer=tokenizer\n",
    "        self.text_max_token_len=text_max_token_len\n",
    "        self.summary_max_token_len=summary_max_token_len\n",
    "        \n",
    "    def setup(self,stage=None):\n",
    "        self.train_dataset=NewsSummaryDataset(\n",
    "        self.train_df,\n",
    "        self.tokenizer,\n",
    "        self.text_max_token_len,\n",
    "        self.summary_max_token_len\n",
    "        )\n",
    "        \n",
    "        self.test_dataset=NewsSummaryDataset(\n",
    "        self.test_df,\n",
    "        self.tokenizer,\n",
    "        self.text_max_token_len,\n",
    "        self.summary_max_token_len\n",
    "        )\n",
    "        \n",
    "    def train_dataloader(self):\n",
    "        return DataLoader(\n",
    "        self.train_dataset,\n",
    "        batch_size=self.batch_size,\n",
    "        shuffle=True,\n",
    "        num_workers=2)\n",
    "        \n",
    "    def val_dataloader(self):\n",
    "        return DataLoader(\n",
    "        self.test_dataset,\n",
    "        batch_size=self.batch_size,\n",
    "        shuffle=False,\n",
    "        num_workers=2)\n",
    "    \n",
    "    def val_dataloader(self):\n",
    "        return DataLoader(\n",
    "        self.test_dataset,\n",
    "        batch_size=self.batch_size,\n",
    "        shuffle=False,\n",
    "        num_workers=2)\n",
    "        "
   ]
  },
  {
   "cell_type": "code",
   "execution_count": 28,
   "id": "fdf630d6",
   "metadata": {
    "id": "fdf630d6"
   },
   "outputs": [],
   "source": [
    "model_name='t5-base'"
   ]
  },
  {
   "cell_type": "code",
   "execution_count": 31,
   "id": "9e658f31",
   "metadata": {
    "id": "9e658f31"
   },
   "outputs": [
    {
     "name": "stdout",
     "output_type": "stream",
     "text": [
      "Collecting ipywidgets\n",
      "  Downloading ipywidgets-7.6.5-py2.py3-none-any.whl (121 kB)\n",
      "\u001b[K     |████████████████████████████████| 121 kB 660 kB/s eta 0:00:01\n",
      "\u001b[?25hRequirement already satisfied: ipython>=4.0.0; python_version >= \"3.3\" in /home/prottayadhikary/anaconda3/envs/sumapp/lib/python3.8/site-packages (from ipywidgets) (7.29.0)\n",
      "Requirement already satisfied: nbformat>=4.2.0 in /home/prottayadhikary/anaconda3/envs/sumapp/lib/python3.8/site-packages (from ipywidgets) (5.1.3)\n",
      "Requirement already satisfied: traitlets>=4.3.1 in /home/prottayadhikary/anaconda3/envs/sumapp/lib/python3.8/site-packages (from ipywidgets) (5.1.1)\n",
      "Requirement already satisfied: ipython-genutils~=0.2.0 in /home/prottayadhikary/anaconda3/envs/sumapp/lib/python3.8/site-packages (from ipywidgets) (0.2.0)\n",
      "Requirement already satisfied: ipykernel>=4.5.1 in /home/prottayadhikary/anaconda3/envs/sumapp/lib/python3.8/site-packages (from ipywidgets) (6.5.0)\n",
      "Collecting jupyterlab-widgets>=1.0.0; python_version >= \"3.6\"\n",
      "  Downloading jupyterlab_widgets-1.0.2-py3-none-any.whl (243 kB)\n",
      "\u001b[K     |████████████████████████████████| 243 kB 1.8 MB/s eta 0:00:01\n",
      "\u001b[?25hCollecting widgetsnbextension~=3.5.0\n",
      "  Downloading widgetsnbextension-3.5.2-py2.py3-none-any.whl (1.6 MB)\n",
      "\u001b[K     |████████████████████████████████| 1.6 MB 6.0 MB/s eta 0:00:01\n",
      "\u001b[?25hRequirement already satisfied: jedi>=0.16 in /home/prottayadhikary/anaconda3/envs/sumapp/lib/python3.8/site-packages (from ipython>=4.0.0; python_version >= \"3.3\"->ipywidgets) (0.18.1)\n",
      "Requirement already satisfied: decorator in /home/prottayadhikary/anaconda3/envs/sumapp/lib/python3.8/site-packages (from ipython>=4.0.0; python_version >= \"3.3\"->ipywidgets) (5.1.0)\n",
      "Requirement already satisfied: pickleshare in /home/prottayadhikary/anaconda3/envs/sumapp/lib/python3.8/site-packages (from ipython>=4.0.0; python_version >= \"3.3\"->ipywidgets) (0.7.5)\n",
      "Requirement already satisfied: matplotlib-inline in /home/prottayadhikary/anaconda3/envs/sumapp/lib/python3.8/site-packages (from ipython>=4.0.0; python_version >= \"3.3\"->ipywidgets) (0.1.3)\n",
      "Requirement already satisfied: setuptools>=18.5 in /home/prottayadhikary/anaconda3/envs/sumapp/lib/python3.8/site-packages (from ipython>=4.0.0; python_version >= \"3.3\"->ipywidgets) (50.3.0.post20201006)\n",
      "Requirement already satisfied: pexpect>4.3; sys_platform != \"win32\" in /home/prottayadhikary/anaconda3/envs/sumapp/lib/python3.8/site-packages (from ipython>=4.0.0; python_version >= \"3.3\"->ipywidgets) (4.8.0)\n",
      "Requirement already satisfied: pygments in /home/prottayadhikary/anaconda3/envs/sumapp/lib/python3.8/site-packages (from ipython>=4.0.0; python_version >= \"3.3\"->ipywidgets) (2.10.0)\n",
      "Requirement already satisfied: backcall in /home/prottayadhikary/anaconda3/envs/sumapp/lib/python3.8/site-packages (from ipython>=4.0.0; python_version >= \"3.3\"->ipywidgets) (0.2.0)\n",
      "Requirement already satisfied: prompt-toolkit!=3.0.0,!=3.0.1,<3.1.0,>=2.0.0 in /home/prottayadhikary/anaconda3/envs/sumapp/lib/python3.8/site-packages (from ipython>=4.0.0; python_version >= \"3.3\"->ipywidgets) (3.0.22)\n",
      "Requirement already satisfied: jupyter-core in /home/prottayadhikary/anaconda3/envs/sumapp/lib/python3.8/site-packages (from nbformat>=4.2.0->ipywidgets) (4.9.1)\n",
      "Requirement already satisfied: jsonschema!=2.5.0,>=2.4 in /home/prottayadhikary/anaconda3/envs/sumapp/lib/python3.8/site-packages (from nbformat>=4.2.0->ipywidgets) (4.2.1)\n",
      "Requirement already satisfied: debugpy<2.0,>=1.0.0 in /home/prottayadhikary/anaconda3/envs/sumapp/lib/python3.8/site-packages (from ipykernel>=4.5.1->ipywidgets) (1.5.1)\n",
      "Requirement already satisfied: jupyter-client<8.0 in /home/prottayadhikary/anaconda3/envs/sumapp/lib/python3.8/site-packages (from ipykernel>=4.5.1->ipywidgets) (7.0.6)\n",
      "Requirement already satisfied: tornado<7.0,>=4.2 in /home/prottayadhikary/anaconda3/envs/sumapp/lib/python3.8/site-packages (from ipykernel>=4.5.1->ipywidgets) (6.1)\n",
      "Requirement already satisfied: notebook>=4.4.1 in /home/prottayadhikary/anaconda3/envs/sumapp/lib/python3.8/site-packages (from widgetsnbextension~=3.5.0->ipywidgets) (6.4.6)\n",
      "Requirement already satisfied: parso<0.9.0,>=0.8.0 in /home/prottayadhikary/anaconda3/envs/sumapp/lib/python3.8/site-packages (from jedi>=0.16->ipython>=4.0.0; python_version >= \"3.3\"->ipywidgets) (0.8.2)\n",
      "Requirement already satisfied: ptyprocess>=0.5 in /home/prottayadhikary/anaconda3/envs/sumapp/lib/python3.8/site-packages (from pexpect>4.3; sys_platform != \"win32\"->ipython>=4.0.0; python_version >= \"3.3\"->ipywidgets) (0.7.0)\n",
      "Requirement already satisfied: wcwidth in /home/prottayadhikary/anaconda3/envs/sumapp/lib/python3.8/site-packages (from prompt-toolkit!=3.0.0,!=3.0.1,<3.1.0,>=2.0.0->ipython>=4.0.0; python_version >= \"3.3\"->ipywidgets) (0.2.5)\n",
      "Requirement already satisfied: pyrsistent!=0.17.0,!=0.17.1,!=0.17.2,>=0.14.0 in /home/prottayadhikary/anaconda3/envs/sumapp/lib/python3.8/site-packages (from jsonschema!=2.5.0,>=2.4->nbformat>=4.2.0->ipywidgets) (0.18.0)\n",
      "Requirement already satisfied: importlib-resources>=1.4.0; python_version < \"3.9\" in /home/prottayadhikary/anaconda3/envs/sumapp/lib/python3.8/site-packages (from jsonschema!=2.5.0,>=2.4->nbformat>=4.2.0->ipywidgets) (5.4.0)\n",
      "Requirement already satisfied: attrs>=17.4.0 in /home/prottayadhikary/anaconda3/envs/sumapp/lib/python3.8/site-packages (from jsonschema!=2.5.0,>=2.4->nbformat>=4.2.0->ipywidgets) (21.2.0)\n",
      "Requirement already satisfied: python-dateutil>=2.1 in /home/prottayadhikary/anaconda3/envs/sumapp/lib/python3.8/site-packages (from jupyter-client<8.0->ipykernel>=4.5.1->ipywidgets) (2.8.2)\n",
      "Requirement already satisfied: entrypoints in /home/prottayadhikary/anaconda3/envs/sumapp/lib/python3.8/site-packages (from jupyter-client<8.0->ipykernel>=4.5.1->ipywidgets) (0.3)\n",
      "Requirement already satisfied: nest-asyncio>=1.5 in /home/prottayadhikary/anaconda3/envs/sumapp/lib/python3.8/site-packages (from jupyter-client<8.0->ipykernel>=4.5.1->ipywidgets) (1.5.1)\n",
      "Requirement already satisfied: pyzmq>=13 in /home/prottayadhikary/anaconda3/envs/sumapp/lib/python3.8/site-packages (from jupyter-client<8.0->ipykernel>=4.5.1->ipywidgets) (22.3.0)\n",
      "Requirement already satisfied: terminado>=0.8.3 in /home/prottayadhikary/anaconda3/envs/sumapp/lib/python3.8/site-packages (from notebook>=4.4.1->widgetsnbextension~=3.5.0->ipywidgets) (0.12.1)\n",
      "Requirement already satisfied: prometheus-client in /home/prottayadhikary/anaconda3/envs/sumapp/lib/python3.8/site-packages (from notebook>=4.4.1->widgetsnbextension~=3.5.0->ipywidgets) (0.12.0)\n",
      "Requirement already satisfied: argon2-cffi in /home/prottayadhikary/anaconda3/envs/sumapp/lib/python3.8/site-packages (from notebook>=4.4.1->widgetsnbextension~=3.5.0->ipywidgets) (21.1.0)\n",
      "Requirement already satisfied: Send2Trash>=1.8.0 in /home/prottayadhikary/anaconda3/envs/sumapp/lib/python3.8/site-packages (from notebook>=4.4.1->widgetsnbextension~=3.5.0->ipywidgets) (1.8.0)\n",
      "Requirement already satisfied: nbconvert in /home/prottayadhikary/anaconda3/envs/sumapp/lib/python3.8/site-packages (from notebook>=4.4.1->widgetsnbextension~=3.5.0->ipywidgets) (6.3.0)\n",
      "Requirement already satisfied: jinja2 in /home/prottayadhikary/anaconda3/envs/sumapp/lib/python3.8/site-packages (from notebook>=4.4.1->widgetsnbextension~=3.5.0->ipywidgets) (2.11.2)\n",
      "Requirement already satisfied: zipp>=3.1.0; python_version < \"3.10\" in /home/prottayadhikary/anaconda3/envs/sumapp/lib/python3.8/site-packages (from importlib-resources>=1.4.0; python_version < \"3.9\"->jsonschema!=2.5.0,>=2.4->nbformat>=4.2.0->ipywidgets) (3.6.0)\n",
      "Requirement already satisfied: six>=1.5 in /home/prottayadhikary/anaconda3/envs/sumapp/lib/python3.8/site-packages (from python-dateutil>=2.1->jupyter-client<8.0->ipykernel>=4.5.1->ipywidgets) (1.16.0)\n",
      "Requirement already satisfied: cffi>=1.0.0 in /home/prottayadhikary/anaconda3/envs/sumapp/lib/python3.8/site-packages (from argon2-cffi->notebook>=4.4.1->widgetsnbextension~=3.5.0->ipywidgets) (1.15.0)\n",
      "Requirement already satisfied: jupyterlab-pygments in /home/prottayadhikary/anaconda3/envs/sumapp/lib/python3.8/site-packages (from nbconvert->notebook>=4.4.1->widgetsnbextension~=3.5.0->ipywidgets) (0.1.2)\n",
      "Requirement already satisfied: mistune<2,>=0.8.1 in /home/prottayadhikary/anaconda3/envs/sumapp/lib/python3.8/site-packages (from nbconvert->notebook>=4.4.1->widgetsnbextension~=3.5.0->ipywidgets) (0.8.4)\n",
      "Requirement already satisfied: bleach in /home/prottayadhikary/anaconda3/envs/sumapp/lib/python3.8/site-packages (from nbconvert->notebook>=4.4.1->widgetsnbextension~=3.5.0->ipywidgets) (4.1.0)\n",
      "Requirement already satisfied: testpath in /home/prottayadhikary/anaconda3/envs/sumapp/lib/python3.8/site-packages (from nbconvert->notebook>=4.4.1->widgetsnbextension~=3.5.0->ipywidgets) (0.5.0)\n",
      "Requirement already satisfied: defusedxml in /home/prottayadhikary/anaconda3/envs/sumapp/lib/python3.8/site-packages (from nbconvert->notebook>=4.4.1->widgetsnbextension~=3.5.0->ipywidgets) (0.7.1)\n",
      "Requirement already satisfied: pandocfilters>=1.4.1 in /home/prottayadhikary/anaconda3/envs/sumapp/lib/python3.8/site-packages (from nbconvert->notebook>=4.4.1->widgetsnbextension~=3.5.0->ipywidgets) (1.5.0)\n",
      "Requirement already satisfied: nbclient<0.6.0,>=0.5.0 in /home/prottayadhikary/anaconda3/envs/sumapp/lib/python3.8/site-packages (from nbconvert->notebook>=4.4.1->widgetsnbextension~=3.5.0->ipywidgets) (0.5.8)\n"
     ]
    },
    {
     "name": "stdout",
     "output_type": "stream",
     "text": [
      "Requirement already satisfied: MarkupSafe>=0.23 in /home/prottayadhikary/anaconda3/envs/sumapp/lib/python3.8/site-packages (from jinja2->notebook>=4.4.1->widgetsnbextension~=3.5.0->ipywidgets) (1.1.1)\n",
      "Requirement already satisfied: pycparser in /home/prottayadhikary/anaconda3/envs/sumapp/lib/python3.8/site-packages (from cffi>=1.0.0->argon2-cffi->notebook>=4.4.1->widgetsnbextension~=3.5.0->ipywidgets) (2.21)\n",
      "Requirement already satisfied: packaging in /home/prottayadhikary/anaconda3/envs/sumapp/lib/python3.8/site-packages (from bleach->nbconvert->notebook>=4.4.1->widgetsnbextension~=3.5.0->ipywidgets) (21.3)\n",
      "Requirement already satisfied: webencodings in /home/prottayadhikary/anaconda3/envs/sumapp/lib/python3.8/site-packages (from bleach->nbconvert->notebook>=4.4.1->widgetsnbextension~=3.5.0->ipywidgets) (0.5.1)\n",
      "Requirement already satisfied: pyparsing!=3.0.5,>=2.0.2 in /home/prottayadhikary/anaconda3/envs/sumapp/lib/python3.8/site-packages (from packaging->bleach->nbconvert->notebook>=4.4.1->widgetsnbextension~=3.5.0->ipywidgets) (3.0.6)\n",
      "Installing collected packages: jupyterlab-widgets, widgetsnbextension, ipywidgets\n",
      "Successfully installed ipywidgets-7.6.5 jupyterlab-widgets-1.0.2 widgetsnbextension-3.5.2\n"
     ]
    }
   ],
   "source": [
    "!pip install ipywidgets\n",
    "from ipywidgets import IntProgress"
   ]
  },
  {
   "cell_type": "code",
   "execution_count": 32,
   "id": "4c95ecc7",
   "metadata": {
    "colab": {
     "referenced_widgets": [
      "c2ed5d28627444a3ab0626d87ea34704",
      "16e2572bdef4427db2ff80e3489df80e",
      "f644f5d5fdf1468bb4d341040bb2c2e0"
     ]
    },
    "id": "4c95ecc7",
    "outputId": "c6915ea1-627c-4551-c6b8-78bc638fc7c5",
    "scrolled": true
   },
   "outputs": [],
   "source": [
    "tokenizer=T5TokenizerFast.from_pretrained(model_name)"
   ]
  },
  {
   "cell_type": "code",
   "execution_count": 33,
   "id": "65c1a2fc",
   "metadata": {
    "id": "65c1a2fc",
    "outputId": "69eacfc1-c799-43d4-eca8-b0f88df11c4f"
   },
   "outputs": [],
   "source": [
    "#train_df=train_df.dropna()"
   ]
  },
  {
   "cell_type": "code",
   "execution_count": 34,
   "id": "1b8986bf",
   "metadata": {},
   "outputs": [],
   "source": [
    "#train_df.shape"
   ]
  },
  {
   "cell_type": "code",
   "execution_count": 35,
   "id": "328d2f50",
   "metadata": {},
   "outputs": [],
   "source": [
    "#test_df=test_df.dropna()\n",
    "#test_df.shape"
   ]
  },
  {
   "cell_type": "code",
   "execution_count": 38,
   "id": "11c65789",
   "metadata": {
    "id": "11c65789",
    "outputId": "47ce3cbf-8718-4133-cbcd-58e6d620bc64"
   },
   "outputs": [
    {
     "ename": "NameError",
     "evalue": "name 'train_df' is not defined",
     "output_type": "error",
     "traceback": [
      "\u001b[0;31m---------------------------------------------------------------------------\u001b[0m",
      "\u001b[0;31mNameError\u001b[0m                                 Traceback (most recent call last)",
      "\u001b[0;32m/tmp/ipykernel_24852/1148203805.py\u001b[0m in \u001b[0;36m<module>\u001b[0;34m\u001b[0m\n\u001b[1;32m      1\u001b[0m \u001b[0mtext_token_counts\u001b[0m\u001b[0;34m,\u001b[0m \u001b[0msummary_token_counts\u001b[0m\u001b[0;34m=\u001b[0m\u001b[0;34m[\u001b[0m\u001b[0;34m]\u001b[0m\u001b[0;34m,\u001b[0m\u001b[0;34m[\u001b[0m\u001b[0;34m]\u001b[0m\u001b[0;34m\u001b[0m\u001b[0;34m\u001b[0m\u001b[0m\n\u001b[1;32m      2\u001b[0m \u001b[0;34m\u001b[0m\u001b[0m\n\u001b[0;32m----> 3\u001b[0;31m \u001b[0;32mfor\u001b[0m \u001b[0m_\u001b[0m\u001b[0;34m,\u001b[0m\u001b[0mrow\u001b[0m \u001b[0;32min\u001b[0m \u001b[0mtrain_df\u001b[0m\u001b[0;34m.\u001b[0m\u001b[0miterrows\u001b[0m\u001b[0;34m(\u001b[0m\u001b[0;34m)\u001b[0m\u001b[0;34m:\u001b[0m\u001b[0;34m\u001b[0m\u001b[0;34m\u001b[0m\u001b[0m\n\u001b[0m\u001b[1;32m      4\u001b[0m     \u001b[0mtext_token_count\u001b[0m\u001b[0;34m=\u001b[0m\u001b[0mlen\u001b[0m\u001b[0;34m(\u001b[0m\u001b[0mtokenizer\u001b[0m\u001b[0;34m.\u001b[0m\u001b[0mencode\u001b[0m\u001b[0;34m(\u001b[0m\u001b[0mrow\u001b[0m\u001b[0;34m[\u001b[0m\u001b[0;34m'document'\u001b[0m\u001b[0;34m]\u001b[0m\u001b[0;34m)\u001b[0m\u001b[0;34m)\u001b[0m\u001b[0;34m\u001b[0m\u001b[0;34m\u001b[0m\u001b[0m\n\u001b[1;32m      5\u001b[0m     \u001b[0mtext_token_counts\u001b[0m\u001b[0;34m.\u001b[0m\u001b[0mappend\u001b[0m\u001b[0;34m(\u001b[0m\u001b[0mtext_token_count\u001b[0m\u001b[0;34m)\u001b[0m\u001b[0;34m\u001b[0m\u001b[0;34m\u001b[0m\u001b[0m\n",
      "\u001b[0;31mNameError\u001b[0m: name 'train_df' is not defined"
     ]
    }
   ],
   "source": [
    "# text_token_counts, summary_token_counts=[],[]\n",
    "\n",
    "# for _,row in train_df.iterrows():\n",
    "#     text_token_count=len(tokenizer.encode(row['document']))\n",
    "#     text_token_counts.append(text_token_count)\n",
    "\n",
    "#     summary_token_count=len(tokenizer.encode(row['summary']))\n",
    "#     summary_token_counts.append(summary_token_count)\n",
    "    "
   ]
  },
  {
   "cell_type": "code",
   "execution_count": null,
   "id": "124d587d",
   "metadata": {
    "id": "124d587d",
    "outputId": "9c060bba-f66a-46f3-e2c2-38f7e4f3c2e1"
   },
   "outputs": [],
   "source": [
    "#fig,(ax1,ax2)=plt.subplots(1,2)\n",
    "\n",
    "#sns.histplot(text_token_counts, ax=ax1)\n",
    "#ax1.set_title('full text token counts')\n",
    "\n",
    "#sns.histplot(summary_token_counts, ax=ax2)\n",
    "#ax2.set_title('full summary token counts')"
   ]
  },
  {
   "cell_type": "code",
   "execution_count": null,
   "id": "8789e813",
   "metadata": {
    "id": "8789e813"
   },
   "outputs": [],
   "source": [
    "#n_epochs=1\n",
    "#batch_size=8\n",
    "#data_module=NewsSummaryDataModule(train_df,test_df,tokenizer,batch_size=batch_size)"
   ]
  },
  {
   "cell_type": "markdown",
   "id": "b5ca3487",
   "metadata": {
    "id": "b5ca3487"
   },
   "source": [
    "# MODEL"
   ]
  },
  {
   "cell_type": "code",
   "execution_count": 42,
   "id": "5b6a1027",
   "metadata": {
    "id": "5b6a1027"
   },
   "outputs": [],
   "source": [
    "class NewsSummaryModel(pl.LightningModule):\n",
    "    def __init__(self):\n",
    "        super().__init__()\n",
    "        self.model=T5ForConditionalGeneration.from_pretrained(model_name, return_dict=True)\n",
    "        \n",
    "    def forward(self,input_ids, attention_mask, decoder_attention_mask, labels=None):\n",
    "        output=self.model(\n",
    "        input_ids,\n",
    "        attention_mask=attention_mask,\n",
    "        labels=labels,\n",
    "        decoder_attention_mask=decoder_attention_mask)\n",
    "        \n",
    "        return output.loss, output.logits\n",
    "    \n",
    "    def training_step(self, batch, batch_idx):\n",
    "        input_ids=batch['text_input_ids']\n",
    "        attention_mask=batch['text_attention_masks']\n",
    "        labels=batch['labels']\n",
    "        labels_attention_mask=batch['labels_attention_mask']\n",
    "        \n",
    "        loss, outputs=self(\n",
    "            input_ids=input_ids,\n",
    "            attention_mask=attention_mask,\n",
    "            decoder_attention_mask=labels_attention_mask,\n",
    "            labels=labels)\n",
    "        \n",
    "        self.log('train_loss',loss,prog_bar=True,logger=True)\n",
    "        return loss\n",
    "    \n",
    "    def validation_step(self, batch, batch_idx):\n",
    "        input_ids=batch['text_input_ids']\n",
    "        attention_mask=batch['text_attention_masks']\n",
    "        labels=batch['labels']\n",
    "        labels_attention_mask=batch['labels_attention_mask']\n",
    "        \n",
    "        loss, outputs=self(\n",
    "            input_ids=input_ids,\n",
    "            attention_mask=attention_mask,\n",
    "            decoder_attention_mask=labels_attention_mask,\n",
    "            labels=labels)\n",
    "        \n",
    "        self.log('val_loss',loss,prog_bar=True,logger=True)\n",
    "        return loss\n",
    "    \n",
    "    def test_step(self, batch, batch_idx):\n",
    "        input_ids=batch['text_input_ids']\n",
    "        attention_mask=batch['text_attention_masks']\n",
    "        labels=batch['labels']\n",
    "        labels_attention_mask=batch['labels_attention_mask']\n",
    "        \n",
    "        loss, outputs=self(\n",
    "            input_ids=input_ids,\n",
    "            attention_mask=attention_mask,\n",
    "            decoder_attention_mask=labels_attention_mask,\n",
    "            labels=labels)\n",
    "        \n",
    "        self.log('test_loss',loss,prog_bar=True,logger=True)\n",
    "        return loss\n",
    "    \n",
    "    def configure_optimizers(self):\n",
    "        return AdamW(self.parameters(), lr=0.001)"
   ]
  },
  {
   "cell_type": "code",
   "execution_count": 17,
   "id": "0bab0a4a",
   "metadata": {
    "id": "0bab0a4a"
   },
   "outputs": [
    {
     "ename": "NameError",
     "evalue": "name 'T5ForConditionalGeneration' is not defined",
     "output_type": "error",
     "traceback": [
      "\u001b[0;31m---------------------------------------------------------------------------\u001b[0m",
      "\u001b[0;31mNameError\u001b[0m                                 Traceback (most recent call last)",
      "\u001b[0;32m<ipython-input-17-ba83a7d68bcc>\u001b[0m in \u001b[0;36m<module>\u001b[0;34m\u001b[0m\n\u001b[0;32m----> 1\u001b[0;31m \u001b[0mmodel\u001b[0m\u001b[0;34m=\u001b[0m\u001b[0mNewsSummaryModel\u001b[0m\u001b[0;34m(\u001b[0m\u001b[0;34m)\u001b[0m\u001b[0;34m\u001b[0m\u001b[0;34m\u001b[0m\u001b[0m\n\u001b[0m",
      "\u001b[0;32m<ipython-input-16-0055ad4c2d57>\u001b[0m in \u001b[0;36m__init__\u001b[0;34m(self)\u001b[0m\n\u001b[1;32m      2\u001b[0m     \u001b[0;32mdef\u001b[0m \u001b[0m__init__\u001b[0m\u001b[0;34m(\u001b[0m\u001b[0mself\u001b[0m\u001b[0;34m)\u001b[0m\u001b[0;34m:\u001b[0m\u001b[0;34m\u001b[0m\u001b[0;34m\u001b[0m\u001b[0m\n\u001b[1;32m      3\u001b[0m         \u001b[0msuper\u001b[0m\u001b[0;34m(\u001b[0m\u001b[0;34m)\u001b[0m\u001b[0;34m.\u001b[0m\u001b[0m__init__\u001b[0m\u001b[0;34m(\u001b[0m\u001b[0;34m)\u001b[0m\u001b[0;34m\u001b[0m\u001b[0;34m\u001b[0m\u001b[0m\n\u001b[0;32m----> 4\u001b[0;31m         \u001b[0mself\u001b[0m\u001b[0;34m.\u001b[0m\u001b[0mmodel\u001b[0m\u001b[0;34m=\u001b[0m\u001b[0mT5ForConditionalGeneration\u001b[0m\u001b[0;34m.\u001b[0m\u001b[0mfrom_pretrained\u001b[0m\u001b[0;34m(\u001b[0m\u001b[0mmodel_name\u001b[0m\u001b[0;34m,\u001b[0m \u001b[0mreturn_dict\u001b[0m\u001b[0;34m=\u001b[0m\u001b[0;32mTrue\u001b[0m\u001b[0;34m)\u001b[0m\u001b[0;34m\u001b[0m\u001b[0;34m\u001b[0m\u001b[0m\n\u001b[0m\u001b[1;32m      5\u001b[0m \u001b[0;34m\u001b[0m\u001b[0m\n\u001b[1;32m      6\u001b[0m     \u001b[0;32mdef\u001b[0m \u001b[0mforward\u001b[0m\u001b[0;34m(\u001b[0m\u001b[0mself\u001b[0m\u001b[0;34m,\u001b[0m\u001b[0minput_ids\u001b[0m\u001b[0;34m,\u001b[0m \u001b[0mattention_mask\u001b[0m\u001b[0;34m,\u001b[0m \u001b[0mdecoder_attention_mask\u001b[0m\u001b[0;34m,\u001b[0m \u001b[0mlabels\u001b[0m\u001b[0;34m=\u001b[0m\u001b[0;32mNone\u001b[0m\u001b[0;34m)\u001b[0m\u001b[0;34m:\u001b[0m\u001b[0;34m\u001b[0m\u001b[0;34m\u001b[0m\u001b[0m\n",
      "\u001b[0;31mNameError\u001b[0m: name 'T5ForConditionalGeneration' is not defined"
     ]
    }
   ],
   "source": [
    "#model=NewsSummaryModel()"
   ]
  },
  {
   "cell_type": "code",
   "execution_count": 62,
   "id": "5bc0c5e9",
   "metadata": {
    "id": "5bc0c5e9",
    "outputId": "ff45feed-796b-4d0c-8aa4-1ed831392cd2"
   },
   "outputs": [
    {
     "name": "stderr",
     "output_type": "stream",
     "text": [
      "GPU available: True, used: False\n",
      "TPU available: False, using: 0 TPU cores\n",
      "/home/tawmo/anaconda3/lib/python3.7/site-packages/pytorch_lightning/utilities/distributed.py:52: UserWarning: GPU available but not used. Set the --gpus flag when calling the script.\n",
      "  warnings.warn(*args, **kwargs)\n"
     ]
    }
   ],
   "source": [
    "#checkpoint_callback=ModelCheckpoint(\n",
    "#dirpath='checkpoints',\n",
    "#filename='best-checkpoint',\n",
    "#save_top_k=1,\n",
    "#verbose=True,\n",
    "#monitor='val_loss',\n",
    "#mode='min')\n",
    "\n",
    "#logger=TensorBoardLogger('lightning_logs', name='news-summary')\n",
    "\n",
    "#trainer= pl.Trainer(\n",
    "#logger=logger,\n",
    "#checkpoint_callback=checkpoint_callback,\n",
    "#max_epochs=n_epochs,\n",
    "\n",
    "#progress_bar_refresh_rate=30\n",
    "#)"
   ]
  },
  {
   "cell_type": "code",
   "execution_count": 63,
   "id": "d48913a4",
   "metadata": {
    "id": "d48913a4",
    "scrolled": true
   },
   "outputs": [
    {
     "name": "stderr",
     "output_type": "stream",
     "text": [
      "\n",
      "  | Name  | Type                       | Params\n",
      "-----------------------------------------------------\n",
      "0 | model | T5ForConditionalGeneration | 222 M \n",
      "-----------------------------------------------------\n",
      "222 M     Trainable params\n",
      "0         Non-trainable params\n",
      "222 M     Total params\n",
      "891.614   Total estimated model params size (MB)\n"
     ]
    },
    {
     "data": {
      "application/vnd.jupyter.widget-view+json": {
       "model_id": "d2b3a6778249457aa72f541c413a8f48",
       "version_major": 2,
       "version_minor": 0
      },
      "text/plain": [
       "Validation sanity check: 0it [00:00, ?it/s]"
      ]
     },
     "metadata": {},
     "output_type": "display_data"
    },
    {
     "data": {
      "application/vnd.jupyter.widget-view+json": {
       "model_id": "d425551c51b64941adb4dcaa9abba36b",
       "version_major": 2,
       "version_minor": 0
      },
      "text/plain": [
       "Training: 0it [00:00, ?it/s]"
      ]
     },
     "metadata": {},
     "output_type": "display_data"
    },
    {
     "data": {
      "application/vnd.jupyter.widget-view+json": {
       "model_id": "",
       "version_major": 2,
       "version_minor": 0
      },
      "text/plain": [
       "Validating: 0it [00:00, ?it/s]"
      ]
     },
     "metadata": {},
     "output_type": "display_data"
    },
    {
     "name": "stderr",
     "output_type": "stream",
     "text": [
      "Epoch 0, global step 25502: val_loss reached 2.11609 (best 2.11609), saving model to \"/home/tawmo/checkpoints/best-checkpoint.ckpt\" as top 1\n"
     ]
    },
    {
     "data": {
      "text/plain": [
       "1"
      ]
     },
     "execution_count": 63,
     "metadata": {},
     "output_type": "execute_result"
    }
   ],
   "source": [
    "#trainer.fit(model, data_module)"
   ]
  },
  {
   "cell_type": "code",
   "execution_count": 64,
   "id": "5da4a875",
   "metadata": {
    "id": "5da4a875"
   },
   "outputs": [],
   "source": [
    "#trained_model=NewsSummaryModel.load_from_checkpoint(\n",
    "#trainer.checkpoint_callback.best_model_path)\n",
    "#trained_model.freeze()"
   ]
  },
  {
   "cell_type": "code",
   "execution_count": 39,
   "id": "aae3cd75",
   "metadata": {
    "id": "aae3cd75"
   },
   "outputs": [],
   "source": [
    "import pickle\n",
    "#filename='T5_Xsum'\n",
    "#pickle.dump(model,open(filename,'wb'))"
   ]
  },
  {
   "cell_type": "code",
   "execution_count": 43,
   "id": "be212362",
   "metadata": {},
   "outputs": [],
   "source": [
    "T5_CNN=pickle.load(open('T5_CNN','rb'))"
   ]
  },
  {
   "cell_type": "code",
   "execution_count": null,
   "id": "f5dab767",
   "metadata": {
    "id": "f5dab767"
   },
   "outputs": [],
   "source": [
    "#torch.save(trained_model,'CNN_trained_t5')"
   ]
  },
  {
   "cell_type": "code",
   "execution_count": null,
   "id": "5e8c72a7",
   "metadata": {
    "id": "5e8c72a7"
   },
   "outputs": [],
   "source": [
    "#modelt5=torch.load('CNN_trained_t5')"
   ]
  },
  {
   "cell_type": "code",
   "execution_count": 44,
   "id": "d3b9c170",
   "metadata": {
    "id": "d3b9c170"
   },
   "outputs": [],
   "source": [
    "def summarize(text):\n",
    "    text_encoding=tokenizer(\n",
    "    text,\n",
    "    max_length=512,\n",
    "    padding='max_length',\n",
    "    truncation=True,\n",
    "    return_attention_mask=True,\n",
    "    add_special_tokens=True,\n",
    "    return_tensors='pt')\n",
    "    \n",
    "    generated_ids=T5_CNN.model.generate(\n",
    "    input_ids=text_encoding['input_ids'],\n",
    "    attention_mask=text_encoding['attention_mask'],\n",
    "    max_length=150,\n",
    "    num_beams=2,\n",
    "    repetition_penalty=2.5,\n",
    "    length_penalty=1.0,\n",
    "    early_stopping=True)\n",
    "    \n",
    "    preds=[\n",
    "        tokenizer.decode(gen_id, skip_special_tokens=True,clean_up_tokenization_spaces=True)\n",
    "        for gen_id in generated_ids\n",
    "    ]\n",
    "    \n",
    "    return \"\".join(preds)"
   ]
  },
  {
   "cell_type": "code",
   "execution_count": 45,
   "id": "e6d7c6dd",
   "metadata": {
    "id": "e6d7c6dd",
    "outputId": "aa7e8540-318f-4b5d-8869-b9874c6ed396"
   },
   "outputs": [
    {
     "ename": "FileNotFoundError",
     "evalue": "[Errno 2] No such file or directory: 'test_xsum.csv'",
     "output_type": "error",
     "traceback": [
      "\u001b[0;31m---------------------------------------------------------------------------\u001b[0m",
      "\u001b[0;31mFileNotFoundError\u001b[0m                         Traceback (most recent call last)",
      "\u001b[0;32m/tmp/ipykernel_24852/1986210705.py\u001b[0m in \u001b[0;36m<module>\u001b[0;34m\u001b[0m\n\u001b[0;32m----> 1\u001b[0;31m \u001b[0mtest_data\u001b[0m\u001b[0;34m=\u001b[0m\u001b[0mpd\u001b[0m\u001b[0;34m.\u001b[0m\u001b[0mread_csv\u001b[0m\u001b[0;34m(\u001b[0m\u001b[0;34m\"test_xsum.csv\"\u001b[0m\u001b[0;34m)\u001b[0m\u001b[0;34m\u001b[0m\u001b[0;34m\u001b[0m\u001b[0m\n\u001b[0m\u001b[1;32m      2\u001b[0m \u001b[0mprint\u001b[0m\u001b[0;34m(\u001b[0m\u001b[0mtest_data\u001b[0m\u001b[0;34m)\u001b[0m\u001b[0;34m\u001b[0m\u001b[0;34m\u001b[0m\u001b[0m\n",
      "\u001b[0;32m~/anaconda3/envs/sumapp/lib/python3.8/site-packages/pandas/util/_decorators.py\u001b[0m in \u001b[0;36mwrapper\u001b[0;34m(*args, **kwargs)\u001b[0m\n\u001b[1;32m    309\u001b[0m                     \u001b[0mstacklevel\u001b[0m\u001b[0;34m=\u001b[0m\u001b[0mstacklevel\u001b[0m\u001b[0;34m,\u001b[0m\u001b[0;34m\u001b[0m\u001b[0;34m\u001b[0m\u001b[0m\n\u001b[1;32m    310\u001b[0m                 )\n\u001b[0;32m--> 311\u001b[0;31m             \u001b[0;32mreturn\u001b[0m \u001b[0mfunc\u001b[0m\u001b[0;34m(\u001b[0m\u001b[0;34m*\u001b[0m\u001b[0margs\u001b[0m\u001b[0;34m,\u001b[0m \u001b[0;34m**\u001b[0m\u001b[0mkwargs\u001b[0m\u001b[0;34m)\u001b[0m\u001b[0;34m\u001b[0m\u001b[0;34m\u001b[0m\u001b[0m\n\u001b[0m\u001b[1;32m    312\u001b[0m \u001b[0;34m\u001b[0m\u001b[0m\n\u001b[1;32m    313\u001b[0m         \u001b[0;32mreturn\u001b[0m \u001b[0mwrapper\u001b[0m\u001b[0;34m\u001b[0m\u001b[0;34m\u001b[0m\u001b[0m\n",
      "\u001b[0;32m~/anaconda3/envs/sumapp/lib/python3.8/site-packages/pandas/io/parsers/readers.py\u001b[0m in \u001b[0;36mread_csv\u001b[0;34m(filepath_or_buffer, sep, delimiter, header, names, index_col, usecols, squeeze, prefix, mangle_dupe_cols, dtype, engine, converters, true_values, false_values, skipinitialspace, skiprows, skipfooter, nrows, na_values, keep_default_na, na_filter, verbose, skip_blank_lines, parse_dates, infer_datetime_format, keep_date_col, date_parser, dayfirst, cache_dates, iterator, chunksize, compression, thousands, decimal, lineterminator, quotechar, quoting, doublequote, escapechar, comment, encoding, encoding_errors, dialect, error_bad_lines, warn_bad_lines, on_bad_lines, delim_whitespace, low_memory, memory_map, float_precision, storage_options)\u001b[0m\n\u001b[1;32m    584\u001b[0m     \u001b[0mkwds\u001b[0m\u001b[0;34m.\u001b[0m\u001b[0mupdate\u001b[0m\u001b[0;34m(\u001b[0m\u001b[0mkwds_defaults\u001b[0m\u001b[0;34m)\u001b[0m\u001b[0;34m\u001b[0m\u001b[0;34m\u001b[0m\u001b[0m\n\u001b[1;32m    585\u001b[0m \u001b[0;34m\u001b[0m\u001b[0m\n\u001b[0;32m--> 586\u001b[0;31m     \u001b[0;32mreturn\u001b[0m \u001b[0m_read\u001b[0m\u001b[0;34m(\u001b[0m\u001b[0mfilepath_or_buffer\u001b[0m\u001b[0;34m,\u001b[0m \u001b[0mkwds\u001b[0m\u001b[0;34m)\u001b[0m\u001b[0;34m\u001b[0m\u001b[0;34m\u001b[0m\u001b[0m\n\u001b[0m\u001b[1;32m    587\u001b[0m \u001b[0;34m\u001b[0m\u001b[0m\n\u001b[1;32m    588\u001b[0m \u001b[0;34m\u001b[0m\u001b[0m\n",
      "\u001b[0;32m~/anaconda3/envs/sumapp/lib/python3.8/site-packages/pandas/io/parsers/readers.py\u001b[0m in \u001b[0;36m_read\u001b[0;34m(filepath_or_buffer, kwds)\u001b[0m\n\u001b[1;32m    480\u001b[0m \u001b[0;34m\u001b[0m\u001b[0m\n\u001b[1;32m    481\u001b[0m     \u001b[0;31m# Create the parser.\u001b[0m\u001b[0;34m\u001b[0m\u001b[0;34m\u001b[0m\u001b[0;34m\u001b[0m\u001b[0m\n\u001b[0;32m--> 482\u001b[0;31m     \u001b[0mparser\u001b[0m \u001b[0;34m=\u001b[0m \u001b[0mTextFileReader\u001b[0m\u001b[0;34m(\u001b[0m\u001b[0mfilepath_or_buffer\u001b[0m\u001b[0;34m,\u001b[0m \u001b[0;34m**\u001b[0m\u001b[0mkwds\u001b[0m\u001b[0;34m)\u001b[0m\u001b[0;34m\u001b[0m\u001b[0;34m\u001b[0m\u001b[0m\n\u001b[0m\u001b[1;32m    483\u001b[0m \u001b[0;34m\u001b[0m\u001b[0m\n\u001b[1;32m    484\u001b[0m     \u001b[0;32mif\u001b[0m \u001b[0mchunksize\u001b[0m \u001b[0;32mor\u001b[0m \u001b[0miterator\u001b[0m\u001b[0;34m:\u001b[0m\u001b[0;34m\u001b[0m\u001b[0;34m\u001b[0m\u001b[0m\n",
      "\u001b[0;32m~/anaconda3/envs/sumapp/lib/python3.8/site-packages/pandas/io/parsers/readers.py\u001b[0m in \u001b[0;36m__init__\u001b[0;34m(self, f, engine, **kwds)\u001b[0m\n\u001b[1;32m    809\u001b[0m             \u001b[0mself\u001b[0m\u001b[0;34m.\u001b[0m\u001b[0moptions\u001b[0m\u001b[0;34m[\u001b[0m\u001b[0;34m\"has_index_names\"\u001b[0m\u001b[0;34m]\u001b[0m \u001b[0;34m=\u001b[0m \u001b[0mkwds\u001b[0m\u001b[0;34m[\u001b[0m\u001b[0;34m\"has_index_names\"\u001b[0m\u001b[0;34m]\u001b[0m\u001b[0;34m\u001b[0m\u001b[0;34m\u001b[0m\u001b[0m\n\u001b[1;32m    810\u001b[0m \u001b[0;34m\u001b[0m\u001b[0m\n\u001b[0;32m--> 811\u001b[0;31m         \u001b[0mself\u001b[0m\u001b[0;34m.\u001b[0m\u001b[0m_engine\u001b[0m \u001b[0;34m=\u001b[0m \u001b[0mself\u001b[0m\u001b[0;34m.\u001b[0m\u001b[0m_make_engine\u001b[0m\u001b[0;34m(\u001b[0m\u001b[0mself\u001b[0m\u001b[0;34m.\u001b[0m\u001b[0mengine\u001b[0m\u001b[0;34m)\u001b[0m\u001b[0;34m\u001b[0m\u001b[0;34m\u001b[0m\u001b[0m\n\u001b[0m\u001b[1;32m    812\u001b[0m \u001b[0;34m\u001b[0m\u001b[0m\n\u001b[1;32m    813\u001b[0m     \u001b[0;32mdef\u001b[0m \u001b[0mclose\u001b[0m\u001b[0;34m(\u001b[0m\u001b[0mself\u001b[0m\u001b[0;34m)\u001b[0m\u001b[0;34m:\u001b[0m\u001b[0;34m\u001b[0m\u001b[0;34m\u001b[0m\u001b[0m\n",
      "\u001b[0;32m~/anaconda3/envs/sumapp/lib/python3.8/site-packages/pandas/io/parsers/readers.py\u001b[0m in \u001b[0;36m_make_engine\u001b[0;34m(self, engine)\u001b[0m\n\u001b[1;32m   1038\u001b[0m             )\n\u001b[1;32m   1039\u001b[0m         \u001b[0;31m# error: Too many arguments for \"ParserBase\"\u001b[0m\u001b[0;34m\u001b[0m\u001b[0;34m\u001b[0m\u001b[0;34m\u001b[0m\u001b[0m\n\u001b[0;32m-> 1040\u001b[0;31m         \u001b[0;32mreturn\u001b[0m \u001b[0mmapping\u001b[0m\u001b[0;34m[\u001b[0m\u001b[0mengine\u001b[0m\u001b[0;34m]\u001b[0m\u001b[0;34m(\u001b[0m\u001b[0mself\u001b[0m\u001b[0;34m.\u001b[0m\u001b[0mf\u001b[0m\u001b[0;34m,\u001b[0m \u001b[0;34m**\u001b[0m\u001b[0mself\u001b[0m\u001b[0;34m.\u001b[0m\u001b[0moptions\u001b[0m\u001b[0;34m)\u001b[0m  \u001b[0;31m# type: ignore[call-arg]\u001b[0m\u001b[0;34m\u001b[0m\u001b[0;34m\u001b[0m\u001b[0m\n\u001b[0m\u001b[1;32m   1041\u001b[0m \u001b[0;34m\u001b[0m\u001b[0m\n\u001b[1;32m   1042\u001b[0m     \u001b[0;32mdef\u001b[0m \u001b[0m_failover_to_python\u001b[0m\u001b[0;34m(\u001b[0m\u001b[0mself\u001b[0m\u001b[0;34m)\u001b[0m\u001b[0;34m:\u001b[0m\u001b[0;34m\u001b[0m\u001b[0;34m\u001b[0m\u001b[0m\n",
      "\u001b[0;32m~/anaconda3/envs/sumapp/lib/python3.8/site-packages/pandas/io/parsers/c_parser_wrapper.py\u001b[0m in \u001b[0;36m__init__\u001b[0;34m(self, src, **kwds)\u001b[0m\n\u001b[1;32m     49\u001b[0m \u001b[0;34m\u001b[0m\u001b[0m\n\u001b[1;32m     50\u001b[0m         \u001b[0;31m# open handles\u001b[0m\u001b[0;34m\u001b[0m\u001b[0;34m\u001b[0m\u001b[0;34m\u001b[0m\u001b[0m\n\u001b[0;32m---> 51\u001b[0;31m         \u001b[0mself\u001b[0m\u001b[0;34m.\u001b[0m\u001b[0m_open_handles\u001b[0m\u001b[0;34m(\u001b[0m\u001b[0msrc\u001b[0m\u001b[0;34m,\u001b[0m \u001b[0mkwds\u001b[0m\u001b[0;34m)\u001b[0m\u001b[0;34m\u001b[0m\u001b[0;34m\u001b[0m\u001b[0m\n\u001b[0m\u001b[1;32m     52\u001b[0m         \u001b[0;32massert\u001b[0m \u001b[0mself\u001b[0m\u001b[0;34m.\u001b[0m\u001b[0mhandles\u001b[0m \u001b[0;32mis\u001b[0m \u001b[0;32mnot\u001b[0m \u001b[0;32mNone\u001b[0m\u001b[0;34m\u001b[0m\u001b[0;34m\u001b[0m\u001b[0m\n\u001b[1;32m     53\u001b[0m \u001b[0;34m\u001b[0m\u001b[0m\n",
      "\u001b[0;32m~/anaconda3/envs/sumapp/lib/python3.8/site-packages/pandas/io/parsers/base_parser.py\u001b[0m in \u001b[0;36m_open_handles\u001b[0;34m(self, src, kwds)\u001b[0m\n\u001b[1;32m    220\u001b[0m         \u001b[0mLet\u001b[0m \u001b[0mthe\u001b[0m \u001b[0mreaders\u001b[0m \u001b[0mopen\u001b[0m \u001b[0mIOHandles\u001b[0m \u001b[0mafter\u001b[0m \u001b[0mthey\u001b[0m \u001b[0mare\u001b[0m \u001b[0mdone\u001b[0m \u001b[0;32mwith\u001b[0m \u001b[0mtheir\u001b[0m \u001b[0mpotential\u001b[0m \u001b[0mraises\u001b[0m\u001b[0;34m.\u001b[0m\u001b[0;34m\u001b[0m\u001b[0;34m\u001b[0m\u001b[0m\n\u001b[1;32m    221\u001b[0m         \"\"\"\n\u001b[0;32m--> 222\u001b[0;31m         self.handles = get_handle(\n\u001b[0m\u001b[1;32m    223\u001b[0m             \u001b[0msrc\u001b[0m\u001b[0;34m,\u001b[0m\u001b[0;34m\u001b[0m\u001b[0;34m\u001b[0m\u001b[0m\n\u001b[1;32m    224\u001b[0m             \u001b[0;34m\"r\"\u001b[0m\u001b[0;34m,\u001b[0m\u001b[0;34m\u001b[0m\u001b[0;34m\u001b[0m\u001b[0m\n",
      "\u001b[0;32m~/anaconda3/envs/sumapp/lib/python3.8/site-packages/pandas/io/common.py\u001b[0m in \u001b[0;36mget_handle\u001b[0;34m(path_or_buf, mode, encoding, compression, memory_map, is_text, errors, storage_options)\u001b[0m\n\u001b[1;32m    700\u001b[0m         \u001b[0;32mif\u001b[0m \u001b[0mioargs\u001b[0m\u001b[0;34m.\u001b[0m\u001b[0mencoding\u001b[0m \u001b[0;32mand\u001b[0m \u001b[0;34m\"b\"\u001b[0m \u001b[0;32mnot\u001b[0m \u001b[0;32min\u001b[0m \u001b[0mioargs\u001b[0m\u001b[0;34m.\u001b[0m\u001b[0mmode\u001b[0m\u001b[0;34m:\u001b[0m\u001b[0;34m\u001b[0m\u001b[0;34m\u001b[0m\u001b[0m\n\u001b[1;32m    701\u001b[0m             \u001b[0;31m# Encoding\u001b[0m\u001b[0;34m\u001b[0m\u001b[0;34m\u001b[0m\u001b[0;34m\u001b[0m\u001b[0m\n\u001b[0;32m--> 702\u001b[0;31m             handle = open(\n\u001b[0m\u001b[1;32m    703\u001b[0m                 \u001b[0mhandle\u001b[0m\u001b[0;34m,\u001b[0m\u001b[0;34m\u001b[0m\u001b[0;34m\u001b[0m\u001b[0m\n\u001b[1;32m    704\u001b[0m                 \u001b[0mioargs\u001b[0m\u001b[0;34m.\u001b[0m\u001b[0mmode\u001b[0m\u001b[0;34m,\u001b[0m\u001b[0;34m\u001b[0m\u001b[0;34m\u001b[0m\u001b[0m\n",
      "\u001b[0;31mFileNotFoundError\u001b[0m: [Errno 2] No such file or directory: 'test_xsum.csv'"
     ]
    }
   ],
   "source": [
    "test_data=pd.read_csv(\"test_xsum.csv\")\n",
    "print(test_data)"
   ]
  },
  {
   "cell_type": "code",
   "execution_count": 24,
   "id": "f3fd4723",
   "metadata": {},
   "outputs": [
    {
     "data": {
      "text/plain": [
       "(11333, 4)"
      ]
     },
     "execution_count": 24,
     "metadata": {},
     "output_type": "execute_result"
    }
   ],
   "source": [
    "test_data=test_data.dropna()\n",
    "test_data.shape"
   ]
  },
  {
   "cell_type": "code",
   "execution_count": 25,
   "id": "356f99ac",
   "metadata": {
    "id": "356f99ac"
   },
   "outputs": [],
   "source": [
    "test_datax=test_data['document']\n",
    "dict1={}\n",
    "for i in test_datax:\n",
    "    summary=summarize(i)\n",
    "    dict1[i]=summary"
   ]
  },
  {
   "cell_type": "code",
   "execution_count": 47,
   "id": "8a4f4a89",
   "metadata": {},
   "outputs": [
    {
     "name": "stdout",
     "output_type": "stream",
     "text": [
      "The incident took place not far from the eastern Malian town of Bandiagara. The conflict escalated even more over the activities of Islamists, forces loyal to Muammar Gaddafi.\n"
     ]
    }
   ],
   "source": [
    "text = 'At least 31 people were killed and eight others injured after terrorists attack on a bus in Mali, a source told news agency Sputnik. The incident took place not far from the eastern Malian town of Bandiagara, the Mopti region, according to the source.Malis situation was destabilized in 2012 when the Tuareg militants seized vast territories in the northern part of the country. The conflict escalated even more over the activities of Islamists, forces loyal to former Libyan leader Muammar Gaddafi as well as French interference.'\n",
    "summary = summarize(text)\n",
    "print(summary)"
   ]
  },
  {
   "cell_type": "code",
   "execution_count": 41,
   "id": "3dfe659e",
   "metadata": {
    "id": "3dfe659e",
    "outputId": "37a218ac-aad1-45d4-e586-b48660a1d8cd"
   },
   "outputs": [
    {
     "data": {
      "text/plain": [
       "11329"
      ]
     },
     "execution_count": 41,
     "metadata": {},
     "output_type": "execute_result"
    }
   ],
   "source": [
    "len(dict1)"
   ]
  },
  {
   "cell_type": "code",
   "execution_count": 42,
   "id": "d7966441",
   "metadata": {
    "id": "d7966441"
   },
   "outputs": [],
   "source": [
    "test_datay = pd.DataFrame(list(dict1.items()),columns = ['document','summary'])"
   ]
  },
  {
   "cell_type": "code",
   "execution_count": 43,
   "id": "f9d8cae1",
   "metadata": {
    "id": "f9d8cae1",
    "outputId": "ff667e7a-2d6d-42ad-fa8a-10fc567f47fe"
   },
   "outputs": [
    {
     "data": {
      "text/plain": [
       "11329"
      ]
     },
     "execution_count": 43,
     "metadata": {},
     "output_type": "execute_result"
    }
   ],
   "source": [
    "len(test_datay)"
   ]
  },
  {
   "cell_type": "code",
   "execution_count": 44,
   "id": "5d2cadcd",
   "metadata": {},
   "outputs": [
    {
     "data": {
      "text/html": [
       "<div>\n",
       "<style scoped>\n",
       "    .dataframe tbody tr th:only-of-type {\n",
       "        vertical-align: middle;\n",
       "    }\n",
       "\n",
       "    .dataframe tbody tr th {\n",
       "        vertical-align: top;\n",
       "    }\n",
       "\n",
       "    .dataframe thead th {\n",
       "        text-align: right;\n",
       "    }\n",
       "</style>\n",
       "<table border=\"1\" class=\"dataframe\">\n",
       "  <thead>\n",
       "    <tr style=\"text-align: right;\">\n",
       "      <th></th>\n",
       "      <th>document</th>\n",
       "      <th>summary</th>\n",
       "    </tr>\n",
       "  </thead>\n",
       "  <tbody>\n",
       "    <tr>\n",
       "      <th>0</th>\n",
       "      <td>Fast forward about 20 years, and it's fair to ...</td>\n",
       "      <td>Frasers Hospitality is one of the world's bigg...</td>\n",
       "    </tr>\n",
       "    <tr>\n",
       "      <th>1</th>\n",
       "      <td>\"The accident meant the motorway was closed, m...</td>\n",
       "      <td>Northern Ireland have three points from their ...</td>\n",
       "    </tr>\n",
       "    <tr>\n",
       "      <th>2</th>\n",
       "      <td>The Sunday Times says the missile veered off c...</td>\n",
       "      <td>SNP's Nicola Sturgeon called for \"full disclos...</td>\n",
       "    </tr>\n",
       "    <tr>\n",
       "      <th>3</th>\n",
       "      <td>A spokesman for Palm Beach Gardens police in F...</td>\n",
       "      <td>Jerome Barson died two weeks after the crash, ...</td>\n",
       "    </tr>\n",
       "    <tr>\n",
       "      <th>4</th>\n",
       "      <td>The International Tribunal for the Law of the ...</td>\n",
       "      <td>Ivorian tribunal for the Law of the Sea rules ...</td>\n",
       "    </tr>\n",
       "    <tr>\n",
       "      <th>...</th>\n",
       "      <td>...</td>\n",
       "      <td>...</td>\n",
       "    </tr>\n",
       "    <tr>\n",
       "      <th>11324</th>\n",
       "      <td>Messages posted on social media claimed the us...</td>\n",
       "      <td>Messages posted on social media claimed the us...</td>\n",
       "    </tr>\n",
       "    <tr>\n",
       "      <th>11325</th>\n",
       "      <td>Media playback is unsupported on your device\\n...</td>\n",
       "      <td>Cancer Research UK has organised the Slide on ...</td>\n",
       "    </tr>\n",
       "    <tr>\n",
       "      <th>11326</th>\n",
       "      <td>Chris Erskine crossed low for Kris Doolan to t...</td>\n",
       "      <td>Adam Barton and Steven Lawless came close to d...</td>\n",
       "    </tr>\n",
       "    <tr>\n",
       "      <th>11327</th>\n",
       "      <td>The main feature was a drop in bank shares.\\nT...</td>\n",
       "      <td>RBS shares fell by 4.4%, Barclays by 2.8% and ...</td>\n",
       "    </tr>\n",
       "    <tr>\n",
       "      <th>11328</th>\n",
       "      <td>The birds, which are native to southern Europe...</td>\n",
       "      <td>The birds set up nests in the banks of Low Gel...</td>\n",
       "    </tr>\n",
       "  </tbody>\n",
       "</table>\n",
       "<p>11329 rows × 2 columns</p>\n",
       "</div>"
      ],
      "text/plain": [
       "                                                document  \\\n",
       "0      Fast forward about 20 years, and it's fair to ...   \n",
       "1      \"The accident meant the motorway was closed, m...   \n",
       "2      The Sunday Times says the missile veered off c...   \n",
       "3      A spokesman for Palm Beach Gardens police in F...   \n",
       "4      The International Tribunal for the Law of the ...   \n",
       "...                                                  ...   \n",
       "11324  Messages posted on social media claimed the us...   \n",
       "11325  Media playback is unsupported on your device\\n...   \n",
       "11326  Chris Erskine crossed low for Kris Doolan to t...   \n",
       "11327  The main feature was a drop in bank shares.\\nT...   \n",
       "11328  The birds, which are native to southern Europe...   \n",
       "\n",
       "                                                 summary  \n",
       "0      Frasers Hospitality is one of the world's bigg...  \n",
       "1      Northern Ireland have three points from their ...  \n",
       "2      SNP's Nicola Sturgeon called for \"full disclos...  \n",
       "3      Jerome Barson died two weeks after the crash, ...  \n",
       "4      Ivorian tribunal for the Law of the Sea rules ...  \n",
       "...                                                  ...  \n",
       "11324  Messages posted on social media claimed the us...  \n",
       "11325  Cancer Research UK has organised the Slide on ...  \n",
       "11326  Adam Barton and Steven Lawless came close to d...  \n",
       "11327  RBS shares fell by 4.4%, Barclays by 2.8% and ...  \n",
       "11328  The birds set up nests in the banks of Low Gel...  \n",
       "\n",
       "[11329 rows x 2 columns]"
      ]
     },
     "execution_count": 44,
     "metadata": {},
     "output_type": "execute_result"
    }
   ],
   "source": [
    "test_datay"
   ]
  },
  {
   "cell_type": "code",
   "execution_count": 45,
   "id": "b842e3dc",
   "metadata": {
    "id": "b842e3dc"
   },
   "outputs": [],
   "source": [
    "test=test_datay['summary']"
   ]
  },
  {
   "cell_type": "code",
   "execution_count": 46,
   "id": "0e22ef58",
   "metadata": {
    "id": "0e22ef58"
   },
   "outputs": [],
   "source": [
    "highlights=test_data['summary']"
   ]
  },
  {
   "cell_type": "code",
   "execution_count": 47,
   "id": "0a335f06",
   "metadata": {
    "id": "0a335f06"
   },
   "outputs": [],
   "source": [
    "test.to_csv('predictions.csv')"
   ]
  },
  {
   "cell_type": "code",
   "execution_count": 48,
   "id": "733a21d6",
   "metadata": {},
   "outputs": [],
   "source": [
    "highlights.to_csv('originals.csv')"
   ]
  },
  {
   "cell_type": "code",
   "execution_count": 87,
   "id": "1f671163",
   "metadata": {},
   "outputs": [],
   "source": [
    "test=pd.read_csv('predictions.csv')"
   ]
  },
  {
   "cell_type": "code",
   "execution_count": 89,
   "id": "fcc76816",
   "metadata": {},
   "outputs": [
    {
     "data": {
      "text/plain": [
       "0        Frasers Hospitality is one of the world's bigg...\n",
       "1        Northern Ireland have three points from their ...\n",
       "2        SNP's Nicola Sturgeon called for \"full disclos...\n",
       "3        Jerome Barson died two weeks after the crash, ...\n",
       "4        Ivorian tribunal for the Law of the Sea rules ...\n",
       "                               ...                        \n",
       "11328    Messages posted on social media claimed the us...\n",
       "11329    Cancer Research UK has organised the Slide on ...\n",
       "11330    Adam Barton and Steven Lawless came close to d...\n",
       "11331    RBS shares fell by 4.4%, Barclays by 2.8% and ...\n",
       "11332    The birds set up nests in the banks of Low Gel...\n",
       "Name: summary, Length: 11333, dtype: object"
      ]
     },
     "execution_count": 89,
     "metadata": {},
     "output_type": "execute_result"
    }
   ],
   "source": [
    "test"
   ]
  },
  {
   "cell_type": "code",
   "execution_count": 88,
   "id": "9b2c7d93",
   "metadata": {},
   "outputs": [],
   "source": [
    "test=test['summary']"
   ]
  },
  {
   "cell_type": "code",
   "execution_count": 36,
   "id": "ffc968fa",
   "metadata": {},
   "outputs": [],
   "source": [
    "highlights=highlights['summary']"
   ]
  },
  {
   "cell_type": "code",
   "execution_count": 90,
   "id": "11553dd1",
   "metadata": {},
   "outputs": [
    {
     "data": {
      "text/plain": [
       "11333"
      ]
     },
     "execution_count": 90,
     "metadata": {},
     "output_type": "execute_result"
    }
   ],
   "source": [
    "len(test)"
   ]
  },
  {
   "cell_type": "code",
   "execution_count": 52,
   "id": "da714e1d",
   "metadata": {},
   "outputs": [
    {
     "data": {
      "text/plain": [
       "11333"
      ]
     },
     "execution_count": 52,
     "metadata": {},
     "output_type": "execute_result"
    }
   ],
   "source": [
    "len(highlights)"
   ]
  },
  {
   "cell_type": "code",
   "execution_count": 53,
   "id": "bd5b3d7c",
   "metadata": {
    "id": "bd5b3d7c"
   },
   "outputs": [
    {
     "name": "stdout",
     "output_type": "stream",
     "text": [
      "Requirement already satisfied: rouge in ./anaconda3/lib/python3.7/site-packages (1.0.1)\r\n",
      "Requirement already satisfied: six in ./anaconda3/lib/python3.7/site-packages (from rouge) (1.16.0)\r\n"
     ]
    }
   ],
   "source": [
    "!pip install rouge\n",
    "from rouge import Rouge\n",
    "rouge = Rouge()"
   ]
  },
  {
   "cell_type": "code",
   "execution_count": 91,
   "id": "ccfa0adc",
   "metadata": {
    "id": "ccfa0adc",
    "outputId": "e31f2071-719d-41b2-c0d4-72bdad9ee6e0"
   },
   "outputs": [],
   "source": [
    "rouge_output = rouge.get_scores(test, highlights,avg=True)"
   ]
  },
  {
   "cell_type": "code",
   "execution_count": 92,
   "id": "8fa5c213",
   "metadata": {
    "id": "8fa5c213",
    "outputId": "b0774b6e-9f76-4025-a294-ef870839a1a9"
   },
   "outputs": [
    {
     "name": "stdout",
     "output_type": "stream",
     "text": [
      "{'rouge-1': {'r': 0.23908082368441946, 'p': 0.14428708763999087, 'f': 0.17607629799534774}, 'rouge-2': {'r': 0.033661559208618755, 'p': 0.01892540286668346, 'f': 0.023595024684933782}, 'rouge-l': {'r': 0.20321049406804223, 'p': 0.1222189678454218, 'f': 0.14929924729865926}}\n"
     ]
    }
   ],
   "source": [
    "print(rouge_output)"
   ]
  },
  {
   "cell_type": "code",
   "execution_count": 78,
   "id": "ad849192",
   "metadata": {},
   "outputs": [],
   "source": [
    "from nltk.translate.bleu_score import corpus_bleu"
   ]
  },
  {
   "cell_type": "code",
   "execution_count": 93,
   "id": "8fdb0f15",
   "metadata": {},
   "outputs": [],
   "source": [
    "score=corpus_bleu(highlights,test)"
   ]
  },
  {
   "cell_type": "code",
   "execution_count": 94,
   "id": "9da02514",
   "metadata": {},
   "outputs": [
    {
     "data": {
      "text/plain": [
       "1.0461309381300793e-231"
      ]
     },
     "execution_count": 94,
     "metadata": {},
     "output_type": "execute_result"
    }
   ],
   "source": [
    "score "
   ]
  },
  {
   "cell_type": "code",
   "execution_count": null,
   "id": "230731cf",
   "metadata": {},
   "outputs": [],
   "source": []
  }
 ],
 "metadata": {
  "colab": {
   "name": "Finetuning T5 (1).ipynb",
   "provenance": []
  },
  "kernelspec": {
   "display_name": "Python 3 (ipykernel)",
   "language": "python",
   "name": "python3"
  },
  "language_info": {
   "codemirror_mode": {
    "name": "ipython",
    "version": 3
   },
   "file_extension": ".py",
   "mimetype": "text/x-python",
   "name": "python",
   "nbconvert_exporter": "python",
   "pygments_lexer": "ipython3",
   "version": "3.9.7"
  }
 },
 "nbformat": 4,
 "nbformat_minor": 5
}
