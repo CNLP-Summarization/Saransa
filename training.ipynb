{
 "cells": [
  {
   "cell_type": "code",
   "execution_count": 34,
   "id": "a5fcb2bb",
   "metadata": {
    "id": "a5fcb2bb",
    "outputId": "41630c1b-5b43-43e0-c3a5-03435cc08809"
   },
   "outputs": [
    {
     "name": "stdout",
     "output_type": "stream",
     "text": [
      "Sat Nov 27 11:34:17 2021       \n",
      "+-----------------------------------------------------------------------------+\n",
      "| NVIDIA-SMI 465.19.01    Driver Version: 465.19.01    CUDA Version: 11.3     |\n",
      "|-------------------------------+----------------------+----------------------+\n",
      "| GPU  Name        Persistence-M| Bus-Id        Disp.A | Volatile Uncorr. ECC |\n",
      "| Fan  Temp  Perf  Pwr:Usage/Cap|         Memory-Usage | GPU-Util  Compute M. |\n",
      "|                               |                      |               MIG M. |\n",
      "|===============================+======================+======================|\n",
      "|   0  NVIDIA Quadro P...  Off  | 00000000:65:00.0  On |                  N/A |\n",
      "| 53%   50C    P0    19W /  75W |    261MiB /  5036MiB |      8%      Default |\n",
      "|                               |                      |                  N/A |\n",
      "+-------------------------------+----------------------+----------------------+\n",
      "                                                                               \n",
      "+-----------------------------------------------------------------------------+\n",
      "| Processes:                                                                  |\n",
      "|  GPU   GI   CI        PID   Type   Process name                  GPU Memory |\n",
      "|        ID   ID                                                   Usage      |\n",
      "|=============================================================================|\n",
      "|    0   N/A  N/A      1245      G   /usr/lib/xorg/Xorg                175MiB |\n",
      "|    0   N/A  N/A      2217      G   compiz                             34MiB |\n",
      "|    0   N/A  N/A      9848      G   ...AAAAAAAAA= --shared-files       47MiB |\n",
      "+-----------------------------------------------------------------------------+\n"
     ]
    }
   ],
   "source": [
    "!nvidia-smi"
   ]
  },
  {
   "cell_type": "code",
   "execution_count": 2,
   "id": "2e27ad5c",
   "metadata": {
    "id": "2e27ad5c",
    "outputId": "d390c2de-1bf3-4fe1-c12a-fefbd1a6c7a2"
   },
   "outputs": [
    {
     "name": "stdout",
     "output_type": "stream",
     "text": [
      "Collecting transformers\n",
      "  Downloading transformers-4.12.3-py3-none-any.whl (3.1 MB)\n",
      "\u001b[K     |████████████████████████████████| 3.1 MB 637 kB/s eta 0:00:01\n",
      "\u001b[?25hRequirement already satisfied: importlib-metadata in ./anaconda3/lib/python3.7/site-packages (from transformers) (4.8.1)\n",
      "Requirement already satisfied: numpy>=1.17 in ./anaconda3/lib/python3.7/site-packages (from transformers) (1.20.3)\n",
      "Collecting sacremoses\n",
      "  Downloading sacremoses-0.0.46-py3-none-any.whl (895 kB)\n",
      "\u001b[K     |████████████████████████████████| 895 kB 42.1 MB/s eta 0:00:01\n",
      "\u001b[?25hCollecting tokenizers<0.11,>=0.10.1\n",
      "  Downloading tokenizers-0.10.3-cp37-cp37m-manylinux_2_5_x86_64.manylinux1_x86_64.manylinux_2_12_x86_64.manylinux2010_x86_64.whl (3.3 MB)\n",
      "\u001b[K     |████████████████████████████████| 3.3 MB 38.5 MB/s eta 0:00:01\n",
      "\u001b[?25hRequirement already satisfied: filelock in ./anaconda3/lib/python3.7/site-packages (from transformers) (3.0.12)\n",
      "Requirement already satisfied: tqdm>=4.27 in ./anaconda3/lib/python3.7/site-packages (from transformers) (4.62.2)\n",
      "Requirement already satisfied: regex!=2019.12.17 in ./anaconda3/lib/python3.7/site-packages (from transformers) (2021.8.3)\n",
      "Collecting huggingface-hub<1.0,>=0.1.0\n",
      "  Downloading huggingface_hub-0.1.2-py3-none-any.whl (59 kB)\n",
      "\u001b[K     |████████████████████████████████| 59 kB 1.6 MB/s  eta 0:00:01\n",
      "\u001b[?25hRequirement already satisfied: requests in ./anaconda3/lib/python3.7/site-packages (from transformers) (2.26.0)\n",
      "Requirement already satisfied: packaging>=20.0 in ./anaconda3/lib/python3.7/site-packages (from transformers) (21.0)\n",
      "Requirement already satisfied: pyyaml>=5.1 in ./anaconda3/lib/python3.7/site-packages (from transformers) (5.4.1)\n",
      "Requirement already satisfied: typing-extensions>=3.7.4.3 in ./anaconda3/lib/python3.7/site-packages (from huggingface-hub<1.0,>=0.1.0->transformers) (3.10.0.2)\n",
      "Requirement already satisfied: pyparsing>=2.0.2 in ./anaconda3/lib/python3.7/site-packages (from packaging>=20.0->transformers) (2.4.7)\n",
      "Requirement already satisfied: zipp>=0.5 in ./anaconda3/lib/python3.7/site-packages (from importlib-metadata->transformers) (3.5.0)\n",
      "Requirement already satisfied: urllib3<1.27,>=1.21.1 in ./anaconda3/lib/python3.7/site-packages (from requests->transformers) (1.26.6)\n",
      "Requirement already satisfied: charset-normalizer~=2.0.0 in ./anaconda3/lib/python3.7/site-packages (from requests->transformers) (2.0.4)\n",
      "Requirement already satisfied: idna<4,>=2.5 in ./anaconda3/lib/python3.7/site-packages (from requests->transformers) (3.2)\n",
      "Requirement already satisfied: certifi>=2017.4.17 in ./anaconda3/lib/python3.7/site-packages (from requests->transformers) (2021.5.30)\n",
      "Requirement already satisfied: six in ./anaconda3/lib/python3.7/site-packages (from sacremoses->transformers) (1.16.0)\n",
      "Requirement already satisfied: joblib in ./anaconda3/lib/python3.7/site-packages (from sacremoses->transformers) (1.0.1)\n",
      "Requirement already satisfied: click in ./anaconda3/lib/python3.7/site-packages (from sacremoses->transformers) (8.0.1)\n",
      "Installing collected packages: tokenizers, sacremoses, huggingface-hub, transformers\n",
      "Successfully installed huggingface-hub-0.1.2 sacremoses-0.0.46 tokenizers-0.10.3 transformers-4.12.3\n"
     ]
    }
   ],
   "source": [
    "!pip install  transformers\n"
   ]
  },
  {
   "cell_type": "code",
   "execution_count": 3,
   "id": "001b8b72",
   "metadata": {
    "id": "001b8b72"
   },
   "outputs": [
    {
     "name": "stdout",
     "output_type": "stream",
     "text": [
      "Collecting pytorch-lightning==1.2.7\n",
      "  Downloading pytorch_lightning-1.2.7-py3-none-any.whl (830 kB)\n",
      "\u001b[K     |████████████████████████████████| 830 kB 703 kB/s eta 0:00:01\n",
      "\u001b[?25hRequirement already satisfied: numpy>=1.16.6 in ./anaconda3/lib/python3.7/site-packages (from pytorch-lightning==1.2.7) (1.20.3)\n",
      "Requirement already satisfied: tqdm>=4.41.0 in ./anaconda3/lib/python3.7/site-packages (from pytorch-lightning==1.2.7) (4.62.2)\n",
      "Requirement already satisfied: tensorboard>=2.2.0 in ./anaconda3/lib/python3.7/site-packages/tensorboard-2.6.0-py3.7.egg (from pytorch-lightning==1.2.7) (2.6.0)\n",
      "Collecting PyYAML!=5.4.*,>=5.1\n",
      "  Downloading PyYAML-6.0-cp37-cp37m-manylinux_2_5_x86_64.manylinux1_x86_64.manylinux_2_12_x86_64.manylinux2010_x86_64.whl (596 kB)\n",
      "\u001b[K     |████████████████████████████████| 596 kB 44.1 MB/s eta 0:00:01\n",
      "\u001b[?25hCollecting torchmetrics>=0.2.0\n",
      "  Downloading torchmetrics-0.6.0-py3-none-any.whl (329 kB)\n",
      "\u001b[K     |████████████████████████████████| 329 kB 41.6 MB/s eta 0:00:01\n",
      "\u001b[?25hRequirement already satisfied: fsspec[http]>=0.8.1 in ./anaconda3/lib/python3.7/site-packages (from pytorch-lightning==1.2.7) (2021.8.1)\n",
      "Requirement already satisfied: future>=0.17.1 in ./anaconda3/lib/python3.7/site-packages (from pytorch-lightning==1.2.7) (0.18.2)\n",
      "Requirement already satisfied: torch>=1.4 in ./anaconda3/lib/python3.7/site-packages/torch-1.9.1-py3.7-linux-x86_64.egg (from pytorch-lightning==1.2.7) (1.9.1)\n",
      "Requirement already satisfied: requests in ./anaconda3/lib/python3.7/site-packages (from fsspec[http]>=0.8.1->pytorch-lightning==1.2.7) (2.26.0)\n",
      "Collecting aiohttp\n",
      "  Downloading aiohttp-3.8.0-cp37-cp37m-manylinux_2_5_x86_64.manylinux1_x86_64.manylinux_2_12_x86_64.manylinux2010_x86_64.whl (1.1 MB)\n",
      "\u001b[K     |████████████████████████████████| 1.1 MB 44.9 MB/s eta 0:00:01\n",
      "\u001b[?25hRequirement already satisfied: absl-py>=0.4 in ./anaconda3/lib/python3.7/site-packages/absl_py-0.14.0-py3.7.egg (from tensorboard>=2.2.0->pytorch-lightning==1.2.7) (0.14.0)\n",
      "Requirement already satisfied: google-auth-oauthlib<0.5,>=0.4.1 in ./anaconda3/lib/python3.7/site-packages/google_auth_oauthlib-0.4.6-py3.7.egg (from tensorboard>=2.2.0->pytorch-lightning==1.2.7) (0.4.6)\n",
      "Requirement already satisfied: google-auth<2,>=1.6.3 in ./anaconda3/lib/python3.7/site-packages/google_auth-1.35.0-py3.7.egg (from tensorboard>=2.2.0->pytorch-lightning==1.2.7) (1.35.0)\n",
      "Requirement already satisfied: grpcio>=1.24.3 in ./anaconda3/lib/python3.7/site-packages/grpcio-1.41.0-py3.7-linux-x86_64.egg (from tensorboard>=2.2.0->pytorch-lightning==1.2.7) (1.41.0)\n",
      "Requirement already satisfied: markdown>=2.6.8 in ./anaconda3/lib/python3.7/site-packages/Markdown-3.3.4-py3.7.egg (from tensorboard>=2.2.0->pytorch-lightning==1.2.7) (3.3.4)\n",
      "Requirement already satisfied: protobuf>=3.6.0 in ./anaconda3/lib/python3.7/site-packages/protobuf-4.0.0rc2-py3.7.egg (from tensorboard>=2.2.0->pytorch-lightning==1.2.7) (4.0.0rc2)\n",
      "Requirement already satisfied: setuptools>=41.0.0 in ./anaconda3/lib/python3.7/site-packages (from tensorboard>=2.2.0->pytorch-lightning==1.2.7) (58.0.4)\n",
      "Requirement already satisfied: tensorboard-data-server<0.7.0,>=0.6.0 in ./anaconda3/lib/python3.7/site-packages/tensorboard_data_server-0.6.1-py3.7.egg (from tensorboard>=2.2.0->pytorch-lightning==1.2.7) (0.6.1)\n",
      "Requirement already satisfied: tensorboard-plugin-wit>=1.6.0 in ./anaconda3/lib/python3.7/site-packages/tensorboard_plugin_wit-1.8.0-py3.7.egg (from tensorboard>=2.2.0->pytorch-lightning==1.2.7) (1.8.0)\n",
      "Requirement already satisfied: werkzeug>=0.11.15 in ./anaconda3/lib/python3.7/site-packages (from tensorboard>=2.2.0->pytorch-lightning==1.2.7) (2.0.1)\n",
      "Requirement already satisfied: wheel>=0.26 in ./anaconda3/lib/python3.7/site-packages (from tensorboard>=2.2.0->pytorch-lightning==1.2.7) (0.37.0)\n",
      "Requirement already satisfied: six in ./anaconda3/lib/python3.7/site-packages (from absl-py>=0.4->tensorboard>=2.2.0->pytorch-lightning==1.2.7) (1.16.0)\n",
      "Requirement already satisfied: cachetools<5.0,>=2.0.0 in ./anaconda3/lib/python3.7/site-packages/cachetools-4.2.2-py3.7.egg (from google-auth<2,>=1.6.3->tensorboard>=2.2.0->pytorch-lightning==1.2.7) (4.2.2)\n",
      "Requirement already satisfied: pyasn1-modules>=0.2.1 in ./anaconda3/lib/python3.7/site-packages/pyasn1_modules-0.2.8-py3.7.egg (from google-auth<2,>=1.6.3->tensorboard>=2.2.0->pytorch-lightning==1.2.7) (0.2.8)\n",
      "Requirement already satisfied: rsa<5,>=3.1.4 in ./anaconda3/lib/python3.7/site-packages/rsa-4.7.2-py3.7.egg (from google-auth<2,>=1.6.3->tensorboard>=2.2.0->pytorch-lightning==1.2.7) (4.7.2)\n",
      "Requirement already satisfied: requests-oauthlib>=0.7.0 in ./anaconda3/lib/python3.7/site-packages/requests_oauthlib-1.3.0-py3.7.egg (from google-auth-oauthlib<0.5,>=0.4.1->tensorboard>=2.2.0->pytorch-lightning==1.2.7) (1.3.0)\n",
      "Requirement already satisfied: importlib-metadata in ./anaconda3/lib/python3.7/site-packages (from markdown>=2.6.8->tensorboard>=2.2.0->pytorch-lightning==1.2.7) (4.8.1)\n",
      "Requirement already satisfied: pyasn1<0.5.0,>=0.4.6 in ./anaconda3/lib/python3.7/site-packages/pyasn1-0.4.8-py3.7.egg (from pyasn1-modules>=0.2.1->google-auth<2,>=1.6.3->tensorboard>=2.2.0->pytorch-lightning==1.2.7) (0.4.8)\n",
      "Requirement already satisfied: certifi>=2017.4.17 in ./anaconda3/lib/python3.7/site-packages (from requests->fsspec[http]>=0.8.1->pytorch-lightning==1.2.7) (2021.5.30)\n",
      "Requirement already satisfied: idna<4,>=2.5 in ./anaconda3/lib/python3.7/site-packages (from requests->fsspec[http]>=0.8.1->pytorch-lightning==1.2.7) (3.2)\n",
      "Requirement already satisfied: urllib3<1.27,>=1.21.1 in ./anaconda3/lib/python3.7/site-packages (from requests->fsspec[http]>=0.8.1->pytorch-lightning==1.2.7) (1.26.6)\n",
      "Requirement already satisfied: charset-normalizer~=2.0.0 in ./anaconda3/lib/python3.7/site-packages (from requests->fsspec[http]>=0.8.1->pytorch-lightning==1.2.7) (2.0.4)\n",
      "Requirement already satisfied: oauthlib>=3.0.0 in ./anaconda3/lib/python3.7/site-packages/oauthlib-3.1.1-py3.7.egg (from requests-oauthlib>=0.7.0->google-auth-oauthlib<0.5,>=0.4.1->tensorboard>=2.2.0->pytorch-lightning==1.2.7) (3.1.1)\n",
      "Requirement already satisfied: typing-extensions in ./anaconda3/lib/python3.7/site-packages (from torch>=1.4->pytorch-lightning==1.2.7) (3.10.0.2)\n",
      "Requirement already satisfied: packaging in ./anaconda3/lib/python3.7/site-packages (from torchmetrics>=0.2.0->pytorch-lightning==1.2.7) (21.0)\n",
      "Collecting frozenlist>=1.1.1\n",
      "  Downloading frozenlist-1.2.0-cp37-cp37m-manylinux_2_5_x86_64.manylinux1_x86_64.manylinux_2_12_x86_64.manylinux2010_x86_64.whl (192 kB)\n",
      "\u001b[K     |████████████████████████████████| 192 kB 47.7 MB/s eta 0:00:01\n",
      "\u001b[?25hCollecting aiosignal>=1.1.2\n",
      "  Downloading aiosignal-1.2.0-py3-none-any.whl (8.2 kB)\n",
      "Collecting multidict<7.0,>=4.5\n",
      "  Downloading multidict-5.2.0-cp37-cp37m-manylinux_2_5_x86_64.manylinux1_x86_64.manylinux_2_12_x86_64.manylinux2010_x86_64.whl (160 kB)\n",
      "\u001b[K     |████████████████████████████████| 160 kB 42.2 MB/s eta 0:00:01\n",
      "\u001b[?25hCollecting asynctest==0.13.0\n",
      "  Downloading asynctest-0.13.0-py3-none-any.whl (26 kB)\n",
      "Requirement already satisfied: attrs>=17.3.0 in ./anaconda3/lib/python3.7/site-packages (from aiohttp->fsspec[http]>=0.8.1->pytorch-lightning==1.2.7) (21.2.0)\n",
      "Collecting async-timeout<5.0,>=4.0.0a3\n",
      "  Downloading async_timeout-4.0.1-py3-none-any.whl (5.7 kB)\n",
      "Collecting yarl<2.0,>=1.0\n",
      "  Downloading yarl-1.7.2-cp37-cp37m-manylinux_2_5_x86_64.manylinux1_x86_64.manylinux_2_12_x86_64.manylinux2010_x86_64.whl (271 kB)\n",
      "\u001b[K     |████████████████████████████████| 271 kB 50.6 MB/s eta 0:00:01\n",
      "\u001b[?25hRequirement already satisfied: zipp>=0.5 in ./anaconda3/lib/python3.7/site-packages (from importlib-metadata->markdown>=2.6.8->tensorboard>=2.2.0->pytorch-lightning==1.2.7) (3.5.0)\n",
      "Requirement already satisfied: pyparsing>=2.0.2 in ./anaconda3/lib/python3.7/site-packages (from packaging->torchmetrics>=0.2.0->pytorch-lightning==1.2.7) (2.4.7)\n",
      "Installing collected packages: multidict, frozenlist, yarl, asynctest, async-timeout, aiosignal, aiohttp, torchmetrics, PyYAML, pytorch-lightning\n",
      "  Attempting uninstall: PyYAML\n",
      "    Found existing installation: PyYAML 5.4.1\n",
      "    Uninstalling PyYAML-5.4.1:\n",
      "      Successfully uninstalled PyYAML-5.4.1\n",
      "Successfully installed PyYAML-6.0 aiohttp-3.8.0 aiosignal-1.2.0 async-timeout-4.0.1 asynctest-0.13.0 frozenlist-1.2.0 multidict-5.2.0 pytorch-lightning-1.2.7 torchmetrics-0.6.0 yarl-1.7.2\n"
     ]
    }
   ],
   "source": [
    "!pip install pytorch-lightning==1.2.7"
   ]
  },
  {
   "cell_type": "code",
   "execution_count": 1,
   "id": "e995c223",
   "metadata": {
    "id": "e995c223"
   },
   "outputs": [],
   "source": [
    "import pandas as pd\n",
    "import numpy as np\n",
    "import torch"
   ]
  },
  {
   "cell_type": "code",
   "execution_count": 2,
   "id": "b273ba07",
   "metadata": {
    "id": "b273ba07"
   },
   "outputs": [],
   "source": [
    "from pathlib import Path"
   ]
  },
  {
   "cell_type": "code",
   "execution_count": 3,
   "id": "4686c25e",
   "metadata": {
    "id": "4686c25e"
   },
   "outputs": [],
   "source": [
    "from torch.utils.data import Dataset,DataLoader"
   ]
  },
  {
   "cell_type": "code",
   "execution_count": 4,
   "id": "65e9a7ba",
   "metadata": {
    "id": "65e9a7ba"
   },
   "outputs": [],
   "source": [
    "import pytorch_lightning as pl\n",
    "from pytorch_lightning.callbacks import ModelCheckpoint\n",
    "from pytorch_lightning.loggers import TensorBoardLogger"
   ]
  },
  {
   "cell_type": "code",
   "execution_count": 5,
   "id": "59c5fb2a",
   "metadata": {
    "id": "59c5fb2a"
   },
   "outputs": [],
   "source": [
    "from sklearn.model_selection import train_test_split\n",
    "\n",
    "import textwrap"
   ]
  },
  {
   "cell_type": "code",
   "execution_count": 6,
   "id": "b19c595c",
   "metadata": {
    "id": "b19c595c"
   },
   "outputs": [],
   "source": [
    "from transformers import T5TokenizerFast"
   ]
  },
  {
   "cell_type": "code",
   "execution_count": 7,
   "id": "745b4e85",
   "metadata": {
    "id": "745b4e85"
   },
   "outputs": [],
   "source": [
    "from transformers import T5ForConditionalGeneration"
   ]
  },
  {
   "cell_type": "code",
   "execution_count": 8,
   "id": "c01a4c7a",
   "metadata": {
    "id": "c01a4c7a"
   },
   "outputs": [],
   "source": [
    "from tqdm.auto import tqdm"
   ]
  },
  {
   "cell_type": "code",
   "execution_count": 9,
   "id": "b5833263",
   "metadata": {
    "id": "b5833263"
   },
   "outputs": [],
   "source": [
    "from transformers import AdamW"
   ]
  },
  {
   "cell_type": "code",
   "execution_count": 10,
   "id": "f2696c4c",
   "metadata": {
    "id": "f2696c4c"
   },
   "outputs": [],
   "source": [
    "import seaborn as sns\n",
    "from pylab import rcParams\n",
    "import matplotlib.pyplot as plt\n",
    "from matplotlib import rc\n",
    "\n",
    "%matplotlib inline\n",
    "sns.set(style='whitegrid', palette='muted',font_scale=1.2)\n",
    "rcParams['figure.figsize']=16,10"
   ]
  },
  {
   "cell_type": "code",
   "execution_count": 11,
   "id": "ff6565d6",
   "metadata": {
    "id": "ff6565d6",
    "outputId": "170ff596-51a5-42e5-d119-dfd9babda5e5"
   },
   "outputs": [
    {
     "name": "stderr",
     "output_type": "stream",
     "text": [
      "Global seed set to 42\n"
     ]
    },
    {
     "data": {
      "text/plain": [
       "42"
      ]
     },
     "execution_count": 11,
     "metadata": {},
     "output_type": "execute_result"
    }
   ],
   "source": [
    "pl.seed_everything(42)"
   ]
  },
  {
   "cell_type": "code",
   "execution_count": 12,
   "id": "3df7c121",
   "metadata": {
    "id": "3df7c121"
   },
   "outputs": [],
   "source": [
    "df=pd.read_csv('combined_train_data.csv')"
   ]
  },
  {
   "cell_type": "code",
   "execution_count": 14,
   "id": "dc5d384b",
   "metadata": {
    "id": "dc5d384b"
   },
   "outputs": [],
   "source": [
    "train_df=df[['article','highlights']]"
   ]
  },
  {
   "cell_type": "code",
   "execution_count": 15,
   "id": "d61a680e",
   "metadata": {
    "id": "d61a680e"
   },
   "outputs": [],
   "source": [
    "tf=pd.read_csv('combined_val_data.csv')"
   ]
  },
  {
   "cell_type": "code",
   "execution_count": 16,
   "id": "47afef55",
   "metadata": {
    "id": "47afef55"
   },
   "outputs": [],
   "source": [
    "test_df=tf[['article','highlights']]"
   ]
  },
  {
   "cell_type": "code",
   "execution_count": 17,
   "id": "f51f9af8",
   "metadata": {},
   "outputs": [
    {
     "data": {
      "text/html": [
       "<div>\n",
       "<style scoped>\n",
       "    .dataframe tbody tr th:only-of-type {\n",
       "        vertical-align: middle;\n",
       "    }\n",
       "\n",
       "    .dataframe tbody tr th {\n",
       "        vertical-align: top;\n",
       "    }\n",
       "\n",
       "    .dataframe thead th {\n",
       "        text-align: right;\n",
       "    }\n",
       "</style>\n",
       "<table border=\"1\" class=\"dataframe\">\n",
       "  <thead>\n",
       "    <tr style=\"text-align: right;\">\n",
       "      <th></th>\n",
       "      <th>article</th>\n",
       "      <th>highlights</th>\n",
       "    </tr>\n",
       "  </thead>\n",
       "  <tbody>\n",
       "    <tr>\n",
       "      <th>0</th>\n",
       "      <td>(CNN)Singer-songwriter David Crosby hit a jogg...</td>\n",
       "      <td>Accident happens in Santa Ynez, California, ne...</td>\n",
       "    </tr>\n",
       "    <tr>\n",
       "      <th>1</th>\n",
       "      <td>(CNN)Sigma Alpha Epsilon is under fire for a v...</td>\n",
       "      <td>Sigma Alpha Epsilon is being tossed out by the...</td>\n",
       "    </tr>\n",
       "    <tr>\n",
       "      <th>2</th>\n",
       "      <td>(CNN)I'm Candida Moss and I am professor of Ne...</td>\n",
       "      <td>Religion professor Candida Moss appears in eac...</td>\n",
       "    </tr>\n",
       "    <tr>\n",
       "      <th>3</th>\n",
       "      <td>(CNN)Ferguson is crumbling. The cowardly and r...</td>\n",
       "      <td>Two police officers were shot Wednesday in Fer...</td>\n",
       "    </tr>\n",
       "    <tr>\n",
       "      <th>4</th>\n",
       "      <td>Coral Gables, Florida (CNN)Former President Bi...</td>\n",
       "      <td>Clinton Foundation has taken money from foreig...</td>\n",
       "    </tr>\n",
       "    <tr>\n",
       "      <th>...</th>\n",
       "      <td>...</td>\n",
       "      <td>...</td>\n",
       "    </tr>\n",
       "    <tr>\n",
       "      <th>35034</th>\n",
       "      <td>president barack obama responded to wednesday ...</td>\n",
       "      <td>we should never think that this is something t...</td>\n",
       "    </tr>\n",
       "    <tr>\n",
       "      <th>35035</th>\n",
       "      <td>jaw dropping images taken on one photographer ...</td>\n",
       "      <td>motorcycle diaries the breathtaking images tak...</td>\n",
       "    </tr>\n",
       "    <tr>\n",
       "      <th>35036</th>\n",
       "      <td>this young girl was sitting on top of the bomb...</td>\n",
       "      <td>the 15 year old girl who was sitting on top of...</td>\n",
       "    </tr>\n",
       "    <tr>\n",
       "      <th>35037</th>\n",
       "      <td>a woman childlike attempt to draw a picture of...</td>\n",
       "      <td>drawing inspiration woman child like attempt t...</td>\n",
       "    </tr>\n",
       "    <tr>\n",
       "      <th>35038</th>\n",
       "      <td>former trinidad and tobago player david nakhid...</td>\n",
       "      <td>david nakhid will not be able to stand for fif...</td>\n",
       "    </tr>\n",
       "  </tbody>\n",
       "</table>\n",
       "<p>35039 rows × 2 columns</p>\n",
       "</div>"
      ],
      "text/plain": [
       "                                                 article  \\\n",
       "0      (CNN)Singer-songwriter David Crosby hit a jogg...   \n",
       "1      (CNN)Sigma Alpha Epsilon is under fire for a v...   \n",
       "2      (CNN)I'm Candida Moss and I am professor of Ne...   \n",
       "3      (CNN)Ferguson is crumbling. The cowardly and r...   \n",
       "4      Coral Gables, Florida (CNN)Former President Bi...   \n",
       "...                                                  ...   \n",
       "35034  president barack obama responded to wednesday ...   \n",
       "35035  jaw dropping images taken on one photographer ...   \n",
       "35036  this young girl was sitting on top of the bomb...   \n",
       "35037  a woman childlike attempt to draw a picture of...   \n",
       "35038  former trinidad and tobago player david nakhid...   \n",
       "\n",
       "                                              highlights  \n",
       "0      Accident happens in Santa Ynez, California, ne...  \n",
       "1      Sigma Alpha Epsilon is being tossed out by the...  \n",
       "2      Religion professor Candida Moss appears in eac...  \n",
       "3      Two police officers were shot Wednesday in Fer...  \n",
       "4      Clinton Foundation has taken money from foreig...  \n",
       "...                                                  ...  \n",
       "35034  we should never think that this is something t...  \n",
       "35035  motorcycle diaries the breathtaking images tak...  \n",
       "35036  the 15 year old girl who was sitting on top of...  \n",
       "35037  drawing inspiration woman child like attempt t...  \n",
       "35038  david nakhid will not be able to stand for fif...  \n",
       "\n",
       "[35039 rows x 2 columns]"
      ]
     },
     "execution_count": 17,
     "metadata": {},
     "output_type": "execute_result"
    }
   ],
   "source": [
    "test_df"
   ]
  },
  {
   "cell_type": "code",
   "execution_count": 18,
   "id": "0873cac5",
   "metadata": {
    "id": "0873cac5",
    "outputId": "3219d576-010c-41ec-e021-42628da36e88"
   },
   "outputs": [
    {
     "data": {
      "text/plain": [
       "((788648, 2), (35039, 2))"
      ]
     },
     "execution_count": 18,
     "metadata": {},
     "output_type": "execute_result"
    }
   ],
   "source": [
    "#train_df,test_df=train_test_split(df,test_size=0.1)\n",
    "train_df.shape, test_df.shape"
   ]
  },
  {
   "cell_type": "code",
   "execution_count": 19,
   "id": "b27c5bbc",
   "metadata": {
    "id": "b27c5bbc"
   },
   "outputs": [],
   "source": [
    "class NewsSummaryDataset(Dataset):\n",
    "    def __init__(\n",
    "    self,\n",
    "    data: pd.DataFrame,\n",
    "    tokenizer: T5TokenizerFast,\n",
    "    text_max_token_len: int=512,\n",
    "    summary_max_token_len: int=128\n",
    "    ):\n",
    "        self.tokenizer= tokenizer\n",
    "        self.data=data\n",
    "        self.text_max_token_len=text_max_token_len\n",
    "        self.summary_max_token_len=summary_max_token_len\n",
    "        \n",
    "    def __len__(self):\n",
    "        return len(self.data)\n",
    "    def __getitem__(self, index: int):\n",
    "        data_row=self.data.iloc[index]\n",
    "        \n",
    "        text=data_row['article']\n",
    "        \n",
    "        text_encoding=tokenizer(\n",
    "        text,\n",
    "        max_length=self.text_max_token_len,\n",
    "        padding='max_length',\n",
    "        truncation=True,\n",
    "        return_attention_mask=True,\n",
    "        add_special_tokens=True,\n",
    "        return_tensors='pt')\n",
    "        \n",
    "        summary_encoding=tokenizer(\n",
    "        data_row['highlights'],\n",
    "        max_length=self.summary_max_token_len,\n",
    "        padding='max_length',\n",
    "        truncation=True,\n",
    "        return_attention_mask=True,\n",
    "        add_special_tokens=True,\n",
    "        return_tensors='pt')\n",
    "        \n",
    "        labels=summary_encoding['input_ids']\n",
    "        labels[labels==0]= -100\n",
    "                 \n",
    "        return dict(\n",
    "        text=text,\n",
    "        summary=data_row['highlights'],\n",
    "        text_input_ids=text_encoding['input_ids'].flatten(),\n",
    "        text_attention_masks=text_encoding['attention_mask'].flatten(),\n",
    "        labels=labels.flatten(),\n",
    "        labels_attention_mask=summary_encoding['attention_mask'].flatten()\n",
    "        )\n",
    "                 \n",
    "        "
   ]
  },
  {
   "cell_type": "code",
   "execution_count": 20,
   "id": "26733cc9",
   "metadata": {
    "id": "26733cc9"
   },
   "outputs": [],
   "source": [
    "class NewsSummaryDataModule(pl.LightningDataModule):\n",
    "    def __init__(\n",
    "    self,\n",
    "        train_df: pd.DataFrame,\n",
    "        test_df: pd.DataFrame,\n",
    "        tokenizer: T5TokenizerFast,\n",
    "        batch_size:int=8,\n",
    "        text_max_token_len:int=512,\n",
    "        summary_max_token_len:int=128\n",
    "    ):\n",
    "        super().__init__()\n",
    "        \n",
    "        self.train_df=train_df\n",
    "        self.test_df=test_df\n",
    "        self.batch_size=batch_size\n",
    "        self.tokenizer=tokenizer\n",
    "        self.text_max_token_len=text_max_token_len\n",
    "        self.summary_max_token_len=summary_max_token_len\n",
    "        \n",
    "    def setup(self,stage=None):\n",
    "        self.train_dataset=NewsSummaryDataset(\n",
    "        self.train_df,\n",
    "        self.tokenizer,\n",
    "        self.text_max_token_len,\n",
    "        self.summary_max_token_len\n",
    "        )\n",
    "        \n",
    "        self.test_dataset=NewsSummaryDataset(\n",
    "        self.test_df,\n",
    "        self.tokenizer,\n",
    "        self.text_max_token_len,\n",
    "        self.summary_max_token_len\n",
    "        )\n",
    "        \n",
    "    def train_dataloader(self):\n",
    "        return DataLoader(\n",
    "        self.train_dataset,\n",
    "        batch_size=self.batch_size,\n",
    "        shuffle=True,\n",
    "        num_workers=2)\n",
    "        \n",
    "    def val_dataloader(self):\n",
    "        return DataLoader(\n",
    "        self.test_dataset,\n",
    "        batch_size=self.batch_size,\n",
    "        shuffle=False,\n",
    "        num_workers=2)\n",
    "    \n",
    "    def val_dataloader(self):\n",
    "        return DataLoader(\n",
    "        self.test_dataset,\n",
    "        batch_size=self.batch_size,\n",
    "        shuffle=False,\n",
    "        num_workers=2)\n",
    "        "
   ]
  },
  {
   "cell_type": "code",
   "execution_count": 21,
   "id": "fdf630d6",
   "metadata": {
    "id": "fdf630d6"
   },
   "outputs": [],
   "source": [
    "model_name='t5-base'"
   ]
  },
  {
   "cell_type": "code",
   "execution_count": 22,
   "id": "9e658f31",
   "metadata": {
    "id": "9e658f31"
   },
   "outputs": [],
   "source": [
    "from ipywidgets import IntProgress"
   ]
  },
  {
   "cell_type": "code",
   "execution_count": 23,
   "id": "4c95ecc7",
   "metadata": {
    "colab": {
     "referenced_widgets": [
      "c2ed5d28627444a3ab0626d87ea34704",
      "16e2572bdef4427db2ff80e3489df80e",
      "f644f5d5fdf1468bb4d341040bb2c2e0"
     ]
    },
    "id": "4c95ecc7",
    "outputId": "c6915ea1-627c-4551-c6b8-78bc638fc7c5",
    "scrolled": true
   },
   "outputs": [],
   "source": [
    "tokenizer=T5TokenizerFast.from_pretrained(model_name)"
   ]
  },
  {
   "cell_type": "code",
   "execution_count": 24,
   "id": "65c1a2fc",
   "metadata": {
    "id": "65c1a2fc",
    "outputId": "69eacfc1-c799-43d4-eca8-b0f88df11c4f"
   },
   "outputs": [],
   "source": [
    "train_df=train_df.dropna()"
   ]
  },
  {
   "cell_type": "code",
   "execution_count": 25,
   "id": "1b8986bf",
   "metadata": {},
   "outputs": [
    {
     "data": {
      "text/plain": [
       "(785204, 2)"
      ]
     },
     "execution_count": 25,
     "metadata": {},
     "output_type": "execute_result"
    }
   ],
   "source": [
    "train_df.shape"
   ]
  },
  {
   "cell_type": "code",
   "execution_count": 26,
   "id": "328d2f50",
   "metadata": {},
   "outputs": [
    {
     "data": {
      "text/plain": [
       "(35034, 2)"
      ]
     },
     "execution_count": 26,
     "metadata": {},
     "output_type": "execute_result"
    }
   ],
   "source": [
    "test_df=test_df.dropna()\n",
    "test_df.shape"
   ]
  },
  {
   "cell_type": "code",
   "execution_count": 27,
   "id": "11c65789",
   "metadata": {
    "id": "11c65789",
    "outputId": "47ce3cbf-8718-4133-cbcd-58e6d620bc64"
   },
   "outputs": [
    {
     "name": "stderr",
     "output_type": "stream",
     "text": [
      "Token indices sequence length is longer than the specified maximum sequence length for this model (2116 > 512). Running this sequence through the model will result in indexing errors\n"
     ]
    }
   ],
   "source": [
    "text_token_counts, summary_token_counts=[],[]\n",
    "\n",
    "for _,row in train_df.iterrows():\n",
    "    text_token_count=len(tokenizer.encode(row['article']))\n",
    "    text_token_counts.append(text_token_count)\n",
    "    \n",
    "    summary_token_count=len(tokenizer.encode(row['highlights']))\n",
    "    summary_token_counts.append(summary_token_count)\n",
    "    "
   ]
  },
  {
   "cell_type": "code",
   "execution_count": 28,
   "id": "124d587d",
   "metadata": {
    "id": "124d587d",
    "outputId": "9c060bba-f66a-46f3-e2c2-38f7e4f3c2e1"
   },
   "outputs": [
    {
     "data": {
      "text/plain": [
       "Text(0.5, 1.0, 'full summary token counts')"
      ]
     },
     "execution_count": 28,
     "metadata": {},
     "output_type": "execute_result"
    },
    {
     "data": {
      "image/png": "[encoded data removed]",
      "text/plain": [
       "<Figure size 1152x720 with 2 Axes>"
      ]
     },
     "metadata": {},
     "output_type": "display_data"
    }
   ],
   "source": [
    "fig,(ax1,ax2)=plt.subplots(1,2)\n",
    "\n",
    "sns.histplot(text_token_counts, ax=ax1)\n",
    "ax1.set_title('full text token counts')\n",
    "\n",
    "sns.histplot(summary_token_counts, ax=ax2)\n",
    "ax2.set_title('full summary token counts')"
   ]
  },
  {
   "cell_type": "code",
   "execution_count": 29,
   "id": "8789e813",
   "metadata": {
    "id": "8789e813"
   },
   "outputs": [],
   "source": [
    "n_epochs=1\n",
    "batch_size=8\n",
    "data_module=NewsSummaryDataModule(train_df,test_df,tokenizer,batch_size=batch_size)"
   ]
  },
  {
   "cell_type": "markdown",
   "id": "b5ca3487",
   "metadata": {
    "id": "b5ca3487"
   },
   "source": [
    "# MODEL"
   ]
  },
  {
   "cell_type": "code",
   "execution_count": 30,
   "id": "5b6a1027",
   "metadata": {
    "id": "5b6a1027"
   },
   "outputs": [],
   "source": [
    "class NewsSummaryModel(pl.LightningModule):\n",
    "    def __init__(self):\n",
    "        super().__init__()\n",
    "        self.model=T5ForConditionalGeneration.from_pretrained(model_name, return_dict=True)\n",
    "        \n",
    "    def forward(self,input_ids, attention_mask, decoder_attention_mask, labels=None):\n",
    "        output=self.model(\n",
    "        input_ids,\n",
    "        attention_mask=attention_mask,\n",
    "        labels=labels,\n",
    "        decoder_attention_mask=decoder_attention_mask)\n",
    "        \n",
    "        return output.loss, output.logits\n",
    "    \n",
    "    def training_step(self, batch, batch_idx):\n",
    "        input_ids=batch['text_input_ids']\n",
    "        attention_mask=batch['text_attention_masks']\n",
    "        labels=batch['labels']\n",
    "        labels_attention_mask=batch['labels_attention_mask']\n",
    "        \n",
    "        loss, outputs=self(\n",
    "            input_ids=input_ids,\n",
    "            attention_mask=attention_mask,\n",
    "            decoder_attention_mask=labels_attention_mask,\n",
    "            labels=labels)\n",
    "        \n",
    "        self.log('train_loss',loss,prog_bar=True,logger=True)\n",
    "        return loss\n",
    "    \n",
    "    def validation_step(self, batch, batch_idx):\n",
    "        input_ids=batch['text_input_ids']\n",
    "        attention_mask=batch['text_attention_masks']\n",
    "        labels=batch['labels']\n",
    "        labels_attention_mask=batch['labels_attention_mask']\n",
    "        \n",
    "        loss, outputs=self(\n",
    "            input_ids=input_ids,\n",
    "            attention_mask=attention_mask,\n",
    "            decoder_attention_mask=labels_attention_mask,\n",
    "            labels=labels)\n",
    "        \n",
    "        self.log('val_loss',loss,prog_bar=True,logger=True)\n",
    "        return loss\n",
    "    \n",
    "    def test_step(self, batch, batch_idx):\n",
    "        input_ids=batch['text_input_ids']\n",
    "        attention_mask=batch['text_attention_masks']\n",
    "        labels=batch['labels']\n",
    "        labels_attention_mask=batch['labels_attention_mask']\n",
    "        \n",
    "        loss, outputs=self(\n",
    "            input_ids=input_ids,\n",
    "            attention_mask=attention_mask,\n",
    "            decoder_attention_mask=labels_attention_mask,\n",
    "            labels=labels)\n",
    "        \n",
    "        self.log('test_loss',loss,prog_bar=True,logger=True)\n",
    "        return loss\n",
    "    \n",
    "    def configure_optimizers(self):\n",
    "        return AdamW(self.parameters(), lr=0.001)"
   ]
  },
  {
   "cell_type": "code",
   "execution_count": 31,
   "id": "0bab0a4a",
   "metadata": {
    "id": "0bab0a4a"
   },
   "outputs": [],
   "source": [
    "model=NewsSummaryModel()"
   ]
  },
  {
   "cell_type": "code",
   "execution_count": null,
   "id": "b0c292c3",
   "metadata": {},
   "outputs": [],
   "source": [
    "model.summary()"
   ]
  },
  {
   "cell_type": "code",
   "execution_count": 32,
   "id": "5bc0c5e9",
   "metadata": {
    "id": "5bc0c5e9",
    "outputId": "ff45feed-796b-4d0c-8aa4-1ed831392cd2"
   },
   "outputs": [
    {
     "name": "stderr",
     "output_type": "stream",
     "text": [
      "/home/tawmo/anaconda3/lib/python3.7/site-packages/pytorch_lightning/utilities/distributed.py:52: UserWarning: Checkpoint directory checkpoints exists and is not empty.\n",
      "  warnings.warn(*args, **kwargs)\n",
      "GPU available: True, used: False\n",
      "TPU available: False, using: 0 TPU cores\n",
      "/home/tawmo/anaconda3/lib/python3.7/site-packages/pytorch_lightning/utilities/distributed.py:52: UserWarning: GPU available but not used. Set the --gpus flag when calling the script.\n",
      "  warnings.warn(*args, **kwargs)\n"
     ]
    }
   ],
   "source": [
    "checkpoint_callback=ModelCheckpoint(\n",
    "dirpath='checkpoints',\n",
    "filename='best-checkpoint',\n",
    "save_top_k=1,\n",
    "verbose=True,\n",
    "monitor='val_loss',\n",
    "mode='min')\n",
    "\n",
    "logger=TensorBoardLogger('lightning_logs', name='news-summary')\n",
    "\n",
    "trainer= pl.Trainer(\n",
    "logger=logger,\n",
    "checkpoint_callback=checkpoint_callback,\n",
    "max_epochs=n_epochs,\n",
    "gpus=0,\n",
    "progress_bar_refresh_rate=30\n",
    ")"
   ]
  },
  {
   "cell_type": "code",
   "execution_count": null,
   "id": "d48913a4",
   "metadata": {
    "id": "d48913a4",
    "scrolled": false
   },
   "outputs": [
    {
     "name": "stderr",
     "output_type": "stream",
     "text": [
      "\n",
      "  | Name  | Type                       | Params\n",
      "-----------------------------------------------------\n",
      "0 | model | T5ForConditionalGeneration | 222 M \n",
      "-----------------------------------------------------\n",
      "222 M     Trainable params\n",
      "0         Non-trainable params\n",
      "222 M     Total params\n",
      "891.614   Total estimated model params size (MB)\n",
      "/home/tawmo/anaconda3/lib/python3.7/site-packages/pytorch_lightning/utilities/distributed.py:52: UserWarning: The dataloader, val dataloader 0, does not have many workers which may be a bottleneck. Consider increasing the value of the `num_workers` argument` (try 20 which is the number of cpus on this machine) in the `DataLoader` init to improve performance.\n",
      "  warnings.warn(*args, **kwargs)\n"
     ]
    },
    {
     "data": {
      "application/vnd.jupyter.widget-view+json": {
       "model_id": "59a01ef84f4e4fb3b27e63d62c143475",
       "version_major": 2,
       "version_minor": 0
      },
      "text/plain": [
       "Validation sanity check: 0it [00:00, ?it/s]"
      ]
     },
     "metadata": {},
     "output_type": "display_data"
    },
    {
     "name": "stderr",
     "output_type": "stream",
     "text": [
      "/home/tawmo/anaconda3/lib/python3.7/site-packages/pytorch_lightning/utilities/distributed.py:52: UserWarning: The dataloader, train dataloader, does not have many workers which may be a bottleneck. Consider increasing the value of the `num_workers` argument` (try 20 which is the number of cpus on this machine) in the `DataLoader` init to improve performance.\n",
      "  warnings.warn(*args, **kwargs)\n"
     ]
    },
    {
     "data": {
      "application/vnd.jupyter.widget-view+json": {
       "model_id": "98d6c32809c444aca7725286df0d487f",
       "version_major": 2,
       "version_minor": 0
      },
      "text/plain": [
       "Training: 0it [00:00, ?it/s]"
      ]
     },
     "metadata": {},
     "output_type": "display_data"
    }
   ],
   "source": [
    "trainer.fit(model, data_module)"
   ]
  },
  {
   "cell_type": "code",
   "execution_count": 40,
   "id": "5da4a875",
   "metadata": {
    "id": "5da4a875"
   },
   "outputs": [],
   "source": [
    "trained_model=NewsSummaryModel.load_from_checkpoint(\n",
    "trainer.checkpoint_callback.best_model_path)\n",
    "trained_model.freeze()"
   ]
  },
  {
   "cell_type": "code",
   "execution_count": 41,
   "id": "aae3cd75",
   "metadata": {
    "id": "aae3cd75"
   },
   "outputs": [],
   "source": [
    "import pickle\n",
    "filename='T5_MSMO'\n",
    "pickle.dump(model,open(filename,'wb'))"
   ]
  },
  {
   "cell_type": "code",
   "execution_count": null,
   "id": "f5dab767",
   "metadata": {
    "id": "f5dab767"
   },
   "outputs": [],
   "source": [
    "#torch.save(trained_model,'CNN_trained_t5')"
   ]
  },
  {
   "cell_type": "code",
   "execution_count": null,
   "id": "5e8c72a7",
   "metadata": {
    "id": "5e8c72a7"
   },
   "outputs": [],
   "source": [
    "#modelt5=torch.load('CNN_trained_t5')"
   ]
  },
  {
   "cell_type": "code",
   "execution_count": 42,
   "id": "d3b9c170",
   "metadata": {
    "id": "d3b9c170"
   },
   "outputs": [],
   "source": [
    "def summarize(text):\n",
    "    text_encoding=tokenizer(\n",
    "    text,\n",
    "    max_length=512,\n",
    "    padding='max_length',\n",
    "    truncation=True,\n",
    "    return_attention_mask=True,\n",
    "    add_special_tokens=True,\n",
    "    return_tensors='pt')\n",
    "    \n",
    "    generated_ids=trained_model.model.generate(\n",
    "    input_ids=text_encoding['input_ids'],\n",
    "    attention_mask=text_encoding['attention_mask'],\n",
    "    max_length=150,\n",
    "    num_beams=2,\n",
    "    repetition_penalty=2.5,\n",
    "    length_penalty=1.0,\n",
    "    early_stopping=True)\n",
    "    \n",
    "    preds=[\n",
    "        tokenizer.decode(gen_id, skip_special_tokens=True,clean_up_tokenization_spaces=True)\n",
    "        for gen_id in generated_ids\n",
    "    ]\n",
    "    \n",
    "    return \"\".join(preds)"
   ]
  },
  {
   "cell_type": "code",
   "execution_count": 43,
   "id": "e6d7c6dd",
   "metadata": {
    "id": "e6d7c6dd",
    "outputId": "aa7e8540-318f-4b5d-8869-b9874c6ed396"
   },
   "outputs": [
    {
     "name": "stdout",
     "output_type": "stream",
     "text": [
      "                                                Document  \\\n",
      "0      hunters in france have triggered widespread an...   \n",
      "1      the judging panel was down a music mogul when ...   \n",
      "2      numerous tips have been reported on the possib...   \n",
      "3      parents need to learn not to shame their overw...   \n",
      "4      it was not a new move by gareth barry as he to...   \n",
      "...                                                  ...   \n",
      "10240  sportsmail columnist alan pardew has said that...   \n",
      "10241  these chicks really dig their adopted mom musi...   \n",
      "10242  as one of the world most in demand models kend...   \n",
      "10243  a playwright has suggested kevin spacey was re...   \n",
      "10244  the teenager girl who was allegedly kidnapped ...   \n",
      "\n",
      "                                                 Summary  \n",
      "0      outrage in france after stag is chased by hunt...  \n",
      "1      x factor i got the call this afternoon bgt jud...  \n",
      "2      wanted federal authorities put 5000 bounty on ...  \n",
      "3      stop shaming your overweight kids pediatrician...  \n",
      "4      chelsea playmaker eden hazard was targeted by ...  \n",
      "...                                                  ...  \n",
      "10240  alan pardew says he would have taken the west ...  \n",
      "10241  a cluckin good tune mother hen plays the piano...  \n",
      "10242  happy birthday kendall as the supermodel celeb...  \n",
      "10243  was kevin spacey talking about himself when he...  \n",
      "10244  pictured teenager 19 taken hostage and torture...  \n",
      "\n",
      "[10245 rows x 2 columns]\n"
     ]
    }
   ],
   "source": [
    "test_data=pd.read_csv(\"MSMO_test.csv\")\n",
    "print(test_data)"
   ]
  },
  {
   "cell_type": "code",
   "execution_count": 44,
   "id": "f3fd4723",
   "metadata": {},
   "outputs": [
    {
     "data": {
      "text/plain": [
       "(10245, 2)"
      ]
     },
     "execution_count": 44,
     "metadata": {},
     "output_type": "execute_result"
    }
   ],
   "source": [
    "test_data=test_data.dropna()\n",
    "test_data.shape"
   ]
  },
  {
   "cell_type": "code",
   "execution_count": 45,
   "id": "356f99ac",
   "metadata": {
    "id": "356f99ac"
   },
   "outputs": [],
   "source": [
    "test_datax=test_data['Document']\n",
    "dict1={}\n",
    "for i in test_datax:\n",
    "    summary=summarize(i)\n",
    "    dict1[i]=summary"
   ]
  },
  {
   "cell_type": "code",
   "execution_count": 46,
   "id": "3dfe659e",
   "metadata": {
    "id": "3dfe659e",
    "outputId": "37a218ac-aad1-45d4-e586-b48660a1d8cd"
   },
   "outputs": [
    {
     "data": {
      "text/plain": [
       "10242"
      ]
     },
     "execution_count": 46,
     "metadata": {},
     "output_type": "execute_result"
    }
   ],
   "source": [
    "len(dict1)"
   ]
  },
  {
   "cell_type": "code",
   "execution_count": 47,
   "id": "d7966441",
   "metadata": {
    "id": "d7966441"
   },
   "outputs": [],
   "source": [
    "test_datay = pd.DataFrame(list(dict1.items()),columns = ['document','summary'])"
   ]
  },
  {
   "cell_type": "code",
   "execution_count": 48,
   "id": "f9d8cae1",
   "metadata": {
    "id": "f9d8cae1",
    "outputId": "ff667e7a-2d6d-42ad-fa8a-10fc567f47fe"
   },
   "outputs": [
    {
     "data": {
      "text/plain": [
       "10242"
      ]
     },
     "execution_count": 48,
     "metadata": {},
     "output_type": "execute_result"
    }
   ],
   "source": [
    "len(test_datay)"
   ]
  },
  {
   "cell_type": "code",
   "execution_count": 49,
   "id": "b842e3dc",
   "metadata": {
    "id": "b842e3dc"
   },
   "outputs": [],
   "source": [
    "test=test_datay['summary']"
   ]
  },
  {
   "cell_type": "code",
   "execution_count": 50,
   "id": "0a335f06",
   "metadata": {
    "id": "0a335f06"
   },
   "outputs": [],
   "source": [
    "test.to_csv('MSMO_prediction.csv')"
   ]
  },
  {
   "cell_type": "code",
   "execution_count": 55,
   "id": "1f671163",
   "metadata": {},
   "outputs": [],
   "source": [
    "test=pd.read_csv('MSMO_prediction .csv')"
   ]
  },
  {
   "cell_type": "code",
   "execution_count": 56,
   "id": "9b2c7d93",
   "metadata": {},
   "outputs": [],
   "source": [
    "test=test['summary']"
   ]
  },
  {
   "cell_type": "code",
   "execution_count": 52,
   "id": "0e22ef58",
   "metadata": {
    "id": "0e22ef58"
   },
   "outputs": [],
   "source": [
    "highlights=test_data['Summary']"
   ]
  },
  {
   "cell_type": "code",
   "execution_count": 53,
   "id": "ce4b4e71",
   "metadata": {
    "id": "ce4b4e71"
   },
   "outputs": [],
   "source": [
    "highlights.to_csv('MSMO_original.csv')"
   ]
  },
  {
   "cell_type": "code",
   "execution_count": 97,
   "id": "1cf12a20",
   "metadata": {},
   "outputs": [],
   "source": [
    "highlights=pd.read_csv('original.csv')"
   ]
  },
  {
   "cell_type": "code",
   "execution_count": 98,
   "id": "ffc968fa",
   "metadata": {},
   "outputs": [],
   "source": [
    "highlights=highlights['summary']"
   ]
  },
  {
   "cell_type": "code",
   "execution_count": 57,
   "id": "11553dd1",
   "metadata": {},
   "outputs": [
    {
     "data": {
      "text/plain": [
       "10245"
      ]
     },
     "execution_count": 57,
     "metadata": {},
     "output_type": "execute_result"
    }
   ],
   "source": [
    "len(test)"
   ]
  },
  {
   "cell_type": "code",
   "execution_count": 58,
   "id": "da714e1d",
   "metadata": {},
   "outputs": [
    {
     "data": {
      "text/plain": [
       "10245"
      ]
     },
     "execution_count": 58,
     "metadata": {},
     "output_type": "execute_result"
    }
   ],
   "source": [
    "len(highlights)"
   ]
  },
  {
   "cell_type": "code",
   "execution_count": 59,
   "id": "bd5b3d7c",
   "metadata": {
    "id": "bd5b3d7c"
   },
   "outputs": [
    {
     "name": "stdout",
     "output_type": "stream",
     "text": [
      "Requirement already satisfied: rouge in ./anaconda3/lib/python3.7/site-packages (1.0.1)\r\n",
      "Requirement already satisfied: six in ./anaconda3/lib/python3.7/site-packages (from rouge) (1.16.0)\r\n"
     ]
    }
   ],
   "source": [
    "!pip install rouge\n",
    "from rouge import Rouge\n",
    "rouge = Rouge()"
   ]
  },
  {
   "cell_type": "code",
   "execution_count": 60,
   "id": "ccfa0adc",
   "metadata": {
    "id": "ccfa0adc",
    "outputId": "e31f2071-719d-41b2-c0d4-72bdad9ee6e0"
   },
   "outputs": [],
   "source": [
    "rouge_output = rouge.get_scores(test, highlights,avg=True)"
   ]
  },
  {
   "cell_type": "code",
   "execution_count": 61,
   "id": "8fa5c213",
   "metadata": {
    "id": "8fa5c213",
    "outputId": "b0774b6e-9f76-4025-a294-ef870839a1a9"
   },
   "outputs": [
    {
     "name": "stdout",
     "output_type": "stream",
     "text": [
      "{'rouge-1': {'r': 0.39087875640799397, 'p': 0.4563908977950018, 'f': 0.41472712272819817}, 'rouge-2': {'r': 0.18541335532340647, 'p': 0.21949106637708563, 'f': 0.1974989972577049}, 'rouge-l': {'r': 0.32415333560707393, 'p': 0.3783840877082005, 'f': 0.343860947944413}}\n"
     ]
    }
   ],
   "source": [
    "print(rouge_output)"
   ]
  },
  {
   "cell_type": "code",
   "execution_count": null,
   "id": "e98e2858",
   "metadata": {},
   "outputs": [],
   "source": []
  }
 ],
 "metadata": {
  "colab": {
   "name": "Finetuning T5 (1).ipynb",
   "provenance": []
  },
  "kernelspec": {
   "display_name": "Python 3",
   "language": "python",
   "name": "python3"
  },
  "language_info": {
   "codemirror_mode": {
    "name": "ipython",
    "version": 3
   },
   "file_extension": ".py",
   "mimetype": "text/x-python",
   "name": "python",
   "nbconvert_exporter": "python",
   "pygments_lexer": "ipython3",
   "version": "3.7.11"
  }
 },
 "nbformat": 4,
 "nbformat_minor": 5
}
